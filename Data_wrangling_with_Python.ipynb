{
  "cells": [
    {
      "cell_type": "markdown",
      "metadata": {
        "id": "k16BOP2nEkn4"
      },
      "source": [
        "# Enhancing Bus Service Reliability and Efficiency through Data Analysis"
      ]
    },
    {
      "cell_type": "markdown",
      "metadata": {
        "id": "xuffmYQ1EkoC"
      },
      "source": [
        "## Defining the Question"
      ]
    },
    {
      "cell_type": "markdown",
      "metadata": {
        "id": "7LJfhEe5EkoD"
      },
      "source": [
        "### a) Specifying the Data Analysis Question\n",
        "Our research question is:\n",
        "**What are the main factors contributing to bus breakdowns and delays, and how can bus service efficiency be improved based on the analysis of these factors?**"
      ]
    },
    {
      "cell_type": "markdown",
      "metadata": {
        "id": "njn2JTZUEkoE"
      },
      "source": [
        "### b) Defining the Metric for Success\n",
        "**Measuring Success by Identifying Key Causes of Bus Breakdowns and Delays and Proposing Actionable Solutions**\n",
        "\n",
        "---"
      ]
    },
    {
      "cell_type": "markdown",
      "metadata": {
        "id": "Muoatd_nEkoF"
      },
      "source": [
        "## Understanding the Context"
      ]
    },
    {
      "cell_type": "markdown",
      "metadata": {
        "id": "1eVgZRTaEkoF"
      },
      "source": [
        "### c) Understanding the Context\n",
        "**Exploring Factors Leading to Bus Breakdowns and Delays to Optimize the Quality and Reliability of Bus Services**\n",
        "\n",
        "---"
      ]
    },
    {
      "cell_type": "markdown",
      "metadata": {
        "id": "UQUthDWnEkoG"
      },
      "source": [
        "## Recording the Experimental Design\n",
        "\n",
        "### d) Recording the Experimental Design\n",
        "**A Comprehensive Approach to Analyze Bus Breakdowns and Delays: Data Collection, Cleaning, Analysis, Insights, and Recommendations**\n",
        "\n",
        "---"
      ]
    },
    {
      "cell_type": "markdown",
      "metadata": {
        "id": "rVjUv0uIEkoG"
      },
      "source": [
        "## Data Relevance\n",
        "\n",
        "### e) Data Relevance\n",
        "**Leveraging Relevant Data Insights to Enhance Bus Service Reliability: From Patterns Discovery to Actionable Recommendations**"
      ]
    },
    {
      "cell_type": "markdown",
      "metadata": {
        "id": "NEr4dJK-EkoH"
      },
      "source": [
        "## Reading the Dataset"
      ]
    },
    {
      "cell_type": "markdown",
      "metadata": {
        "id": "MdrG6mVIEkoI"
      },
      "source": [
        "### Import Packages"
      ]
    },
    {
      "cell_type": "code",
      "execution_count": null,
      "metadata": {
        "id": "178zRlD6EkoI"
      },
      "outputs": [],
      "source": [
        "import pandas as pd        # For data manipulation and analysis\n",
        "import numpy as np         # For numerical computations\n",
        "import matplotlib.pyplot as plt   # For data visualization\n",
        "%matplotlib inline\n",
        "import seaborn as sns       # For enhanced data visualization"
      ]
    },
    {
      "cell_type": "markdown",
      "metadata": {
        "id": "dWUnwtwAEkoK"
      },
      "source": [
        "### Load Dataset"
      ]
    },
    {
      "cell_type": "code",
      "execution_count": null,
      "metadata": {
        "id": "c-fmHbnxEkoK"
      },
      "outputs": [],
      "source": [
        "# read the csv file from the internet\n",
        "url = 'https://bit.ly/BusBreakdownDataset'\n",
        "data = pd.read_csv(url)\n"
      ]
    },
    {
      "cell_type": "code",
      "execution_count": null,
      "metadata": {
        "colab": {
          "base_uri": "https://localhost:8080/",
          "height": 429
        },
        "id": "NeT8ol-7EkoK",
        "outputId": "53b6a0f3-53e1-4211-d76f-55ec609e88e6"
      },
      "outputs": [
        {
          "output_type": "execute_result",
          "data": {
            "text/plain": [
              "  School_Year  Busbreakdown_ID           Run_Type Bus_No Route_Number  \\\n",
              "0   2015-2016          1227538  Special Ed AM Run   2621         J711   \n",
              "1   2015-2016          1227539  Special Ed AM Run   1260         M351   \n",
              "2   2015-2016          1227540           Pre-K/EI    418            3   \n",
              "3   2015-2016          1227541  Special Ed AM Run   4522         M271   \n",
              "4   2015-2016          1227542  Special Ed AM Run   3124         M373   \n",
              "\n",
              "          Reason Schools_Serviced             Occurred_On  \\\n",
              "0  Heavy Traffic            75003  11/05/2015 08:10:00 AM   \n",
              "1  Heavy Traffic            06716  11/05/2015 08:10:00 AM   \n",
              "2  Heavy Traffic             C445  11/05/2015 08:09:00 AM   \n",
              "3  Heavy Traffic            02699  11/05/2015 08:12:00 AM   \n",
              "4  Heavy Traffic            02116  11/05/2015 08:13:00 AM   \n",
              "\n",
              "               Created_On        Boro  ... How_Long_Delayed  \\\n",
              "0  11/05/2015 08:12:00 AM  New Jersey  ...              NaN   \n",
              "1  11/05/2015 08:12:00 AM   Manhattan  ...            20MNS   \n",
              "2  11/05/2015 08:13:00 AM       Bronx  ...            15MIN   \n",
              "3  11/05/2015 08:14:00 AM   Manhattan  ...           15 MIN   \n",
              "4  11/05/2015 08:14:00 AM   Manhattan  ...              NaN   \n",
              "\n",
              "  Number_Of_Students_On_The_Bus  Has_Contractor_Notified_Schools  \\\n",
              "0                            11                              Yes   \n",
              "1                             2                              Yes   \n",
              "2                             8                              Yes   \n",
              "3                             6                               No   \n",
              "4                             6                               No   \n",
              "\n",
              "  Has_Contractor_Notified_Parents Have_You_Alerted_OPT  \\\n",
              "0                              No                  Yes   \n",
              "1                             Yes                   No   \n",
              "2                             Yes                  Yes   \n",
              "3                              No                   No   \n",
              "4                              No                   No   \n",
              "\n",
              "              Informed_On Incident_Number         Last_Updated_On  \\\n",
              "0  11/05/2015 08:12:00 AM             NaN  11/05/2015 08:12:14 AM   \n",
              "1  11/05/2015 08:12:00 AM             NaN  11/05/2015 08:13:34 AM   \n",
              "2  11/05/2015 08:13:00 AM             NaN  11/05/2015 08:13:22 AM   \n",
              "3  11/05/2015 08:14:00 AM             NaN  11/05/2015 08:14:04 AM   \n",
              "4  11/05/2015 08:14:00 AM             NaN  11/05/2015 08:14:08 AM   \n",
              "\n",
              "  Breakdown_or_Running_Late School_Age_or_PreK  \n",
              "0              Running Late         School-Age  \n",
              "1              Running Late         School-Age  \n",
              "2              Running Late              Pre-K  \n",
              "3              Running Late         School-Age  \n",
              "4              Running Late         School-Age  \n",
              "\n",
              "[5 rows x 21 columns]"
            ],
            "text/html": [
              "\n",
              "  <div id=\"df-aca51227-a734-4ef4-89b3-52b4b018c2ad\" class=\"colab-df-container\">\n",
              "    <div>\n",
              "<style scoped>\n",
              "    .dataframe tbody tr th:only-of-type {\n",
              "        vertical-align: middle;\n",
              "    }\n",
              "\n",
              "    .dataframe tbody tr th {\n",
              "        vertical-align: top;\n",
              "    }\n",
              "\n",
              "    .dataframe thead th {\n",
              "        text-align: right;\n",
              "    }\n",
              "</style>\n",
              "<table border=\"1\" class=\"dataframe\">\n",
              "  <thead>\n",
              "    <tr style=\"text-align: right;\">\n",
              "      <th></th>\n",
              "      <th>School_Year</th>\n",
              "      <th>Busbreakdown_ID</th>\n",
              "      <th>Run_Type</th>\n",
              "      <th>Bus_No</th>\n",
              "      <th>Route_Number</th>\n",
              "      <th>Reason</th>\n",
              "      <th>Schools_Serviced</th>\n",
              "      <th>Occurred_On</th>\n",
              "      <th>Created_On</th>\n",
              "      <th>Boro</th>\n",
              "      <th>...</th>\n",
              "      <th>How_Long_Delayed</th>\n",
              "      <th>Number_Of_Students_On_The_Bus</th>\n",
              "      <th>Has_Contractor_Notified_Schools</th>\n",
              "      <th>Has_Contractor_Notified_Parents</th>\n",
              "      <th>Have_You_Alerted_OPT</th>\n",
              "      <th>Informed_On</th>\n",
              "      <th>Incident_Number</th>\n",
              "      <th>Last_Updated_On</th>\n",
              "      <th>Breakdown_or_Running_Late</th>\n",
              "      <th>School_Age_or_PreK</th>\n",
              "    </tr>\n",
              "  </thead>\n",
              "  <tbody>\n",
              "    <tr>\n",
              "      <th>0</th>\n",
              "      <td>2015-2016</td>\n",
              "      <td>1227538</td>\n",
              "      <td>Special Ed AM Run</td>\n",
              "      <td>2621</td>\n",
              "      <td>J711</td>\n",
              "      <td>Heavy Traffic</td>\n",
              "      <td>75003</td>\n",
              "      <td>11/05/2015 08:10:00 AM</td>\n",
              "      <td>11/05/2015 08:12:00 AM</td>\n",
              "      <td>New Jersey</td>\n",
              "      <td>...</td>\n",
              "      <td>NaN</td>\n",
              "      <td>11</td>\n",
              "      <td>Yes</td>\n",
              "      <td>No</td>\n",
              "      <td>Yes</td>\n",
              "      <td>11/05/2015 08:12:00 AM</td>\n",
              "      <td>NaN</td>\n",
              "      <td>11/05/2015 08:12:14 AM</td>\n",
              "      <td>Running Late</td>\n",
              "      <td>School-Age</td>\n",
              "    </tr>\n",
              "    <tr>\n",
              "      <th>1</th>\n",
              "      <td>2015-2016</td>\n",
              "      <td>1227539</td>\n",
              "      <td>Special Ed AM Run</td>\n",
              "      <td>1260</td>\n",
              "      <td>M351</td>\n",
              "      <td>Heavy Traffic</td>\n",
              "      <td>06716</td>\n",
              "      <td>11/05/2015 08:10:00 AM</td>\n",
              "      <td>11/05/2015 08:12:00 AM</td>\n",
              "      <td>Manhattan</td>\n",
              "      <td>...</td>\n",
              "      <td>20MNS</td>\n",
              "      <td>2</td>\n",
              "      <td>Yes</td>\n",
              "      <td>Yes</td>\n",
              "      <td>No</td>\n",
              "      <td>11/05/2015 08:12:00 AM</td>\n",
              "      <td>NaN</td>\n",
              "      <td>11/05/2015 08:13:34 AM</td>\n",
              "      <td>Running Late</td>\n",
              "      <td>School-Age</td>\n",
              "    </tr>\n",
              "    <tr>\n",
              "      <th>2</th>\n",
              "      <td>2015-2016</td>\n",
              "      <td>1227540</td>\n",
              "      <td>Pre-K/EI</td>\n",
              "      <td>418</td>\n",
              "      <td>3</td>\n",
              "      <td>Heavy Traffic</td>\n",
              "      <td>C445</td>\n",
              "      <td>11/05/2015 08:09:00 AM</td>\n",
              "      <td>11/05/2015 08:13:00 AM</td>\n",
              "      <td>Bronx</td>\n",
              "      <td>...</td>\n",
              "      <td>15MIN</td>\n",
              "      <td>8</td>\n",
              "      <td>Yes</td>\n",
              "      <td>Yes</td>\n",
              "      <td>Yes</td>\n",
              "      <td>11/05/2015 08:13:00 AM</td>\n",
              "      <td>NaN</td>\n",
              "      <td>11/05/2015 08:13:22 AM</td>\n",
              "      <td>Running Late</td>\n",
              "      <td>Pre-K</td>\n",
              "    </tr>\n",
              "    <tr>\n",
              "      <th>3</th>\n",
              "      <td>2015-2016</td>\n",
              "      <td>1227541</td>\n",
              "      <td>Special Ed AM Run</td>\n",
              "      <td>4522</td>\n",
              "      <td>M271</td>\n",
              "      <td>Heavy Traffic</td>\n",
              "      <td>02699</td>\n",
              "      <td>11/05/2015 08:12:00 AM</td>\n",
              "      <td>11/05/2015 08:14:00 AM</td>\n",
              "      <td>Manhattan</td>\n",
              "      <td>...</td>\n",
              "      <td>15 MIN</td>\n",
              "      <td>6</td>\n",
              "      <td>No</td>\n",
              "      <td>No</td>\n",
              "      <td>No</td>\n",
              "      <td>11/05/2015 08:14:00 AM</td>\n",
              "      <td>NaN</td>\n",
              "      <td>11/05/2015 08:14:04 AM</td>\n",
              "      <td>Running Late</td>\n",
              "      <td>School-Age</td>\n",
              "    </tr>\n",
              "    <tr>\n",
              "      <th>4</th>\n",
              "      <td>2015-2016</td>\n",
              "      <td>1227542</td>\n",
              "      <td>Special Ed AM Run</td>\n",
              "      <td>3124</td>\n",
              "      <td>M373</td>\n",
              "      <td>Heavy Traffic</td>\n",
              "      <td>02116</td>\n",
              "      <td>11/05/2015 08:13:00 AM</td>\n",
              "      <td>11/05/2015 08:14:00 AM</td>\n",
              "      <td>Manhattan</td>\n",
              "      <td>...</td>\n",
              "      <td>NaN</td>\n",
              "      <td>6</td>\n",
              "      <td>No</td>\n",
              "      <td>No</td>\n",
              "      <td>No</td>\n",
              "      <td>11/05/2015 08:14:00 AM</td>\n",
              "      <td>NaN</td>\n",
              "      <td>11/05/2015 08:14:08 AM</td>\n",
              "      <td>Running Late</td>\n",
              "      <td>School-Age</td>\n",
              "    </tr>\n",
              "  </tbody>\n",
              "</table>\n",
              "<p>5 rows × 21 columns</p>\n",
              "</div>\n",
              "    <div class=\"colab-df-buttons\">\n",
              "\n",
              "  <div class=\"colab-df-container\">\n",
              "    <button class=\"colab-df-convert\" onclick=\"convertToInteractive('df-aca51227-a734-4ef4-89b3-52b4b018c2ad')\"\n",
              "            title=\"Convert this dataframe to an interactive table.\"\n",
              "            style=\"display:none;\">\n",
              "\n",
              "  <svg xmlns=\"http://www.w3.org/2000/svg\" height=\"24px\" viewBox=\"0 -960 960 960\">\n",
              "    <path d=\"M120-120v-720h720v720H120Zm60-500h600v-160H180v160Zm220 220h160v-160H400v160Zm0 220h160v-160H400v160ZM180-400h160v-160H180v160Zm440 0h160v-160H620v160ZM180-180h160v-160H180v160Zm440 0h160v-160H620v160Z\"/>\n",
              "  </svg>\n",
              "    </button>\n",
              "\n",
              "  <style>\n",
              "    .colab-df-container {\n",
              "      display:flex;\n",
              "      gap: 12px;\n",
              "    }\n",
              "\n",
              "    .colab-df-convert {\n",
              "      background-color: #E8F0FE;\n",
              "      border: none;\n",
              "      border-radius: 50%;\n",
              "      cursor: pointer;\n",
              "      display: none;\n",
              "      fill: #1967D2;\n",
              "      height: 32px;\n",
              "      padding: 0 0 0 0;\n",
              "      width: 32px;\n",
              "    }\n",
              "\n",
              "    .colab-df-convert:hover {\n",
              "      background-color: #E2EBFA;\n",
              "      box-shadow: 0px 1px 2px rgba(60, 64, 67, 0.3), 0px 1px 3px 1px rgba(60, 64, 67, 0.15);\n",
              "      fill: #174EA6;\n",
              "    }\n",
              "\n",
              "    .colab-df-buttons div {\n",
              "      margin-bottom: 4px;\n",
              "    }\n",
              "\n",
              "    [theme=dark] .colab-df-convert {\n",
              "      background-color: #3B4455;\n",
              "      fill: #D2E3FC;\n",
              "    }\n",
              "\n",
              "    [theme=dark] .colab-df-convert:hover {\n",
              "      background-color: #434B5C;\n",
              "      box-shadow: 0px 1px 3px 1px rgba(0, 0, 0, 0.15);\n",
              "      filter: drop-shadow(0px 1px 2px rgba(0, 0, 0, 0.3));\n",
              "      fill: #FFFFFF;\n",
              "    }\n",
              "  </style>\n",
              "\n",
              "    <script>\n",
              "      const buttonEl =\n",
              "        document.querySelector('#df-aca51227-a734-4ef4-89b3-52b4b018c2ad button.colab-df-convert');\n",
              "      buttonEl.style.display =\n",
              "        google.colab.kernel.accessAllowed ? 'block' : 'none';\n",
              "\n",
              "      async function convertToInteractive(key) {\n",
              "        const element = document.querySelector('#df-aca51227-a734-4ef4-89b3-52b4b018c2ad');\n",
              "        const dataTable =\n",
              "          await google.colab.kernel.invokeFunction('convertToInteractive',\n",
              "                                                    [key], {});\n",
              "        if (!dataTable) return;\n",
              "\n",
              "        const docLinkHtml = 'Like what you see? Visit the ' +\n",
              "          '<a target=\"_blank\" href=https://colab.research.google.com/notebooks/data_table.ipynb>data table notebook</a>'\n",
              "          + ' to learn more about interactive tables.';\n",
              "        element.innerHTML = '';\n",
              "        dataTable['output_type'] = 'display_data';\n",
              "        await google.colab.output.renderOutput(dataTable, element);\n",
              "        const docLink = document.createElement('div');\n",
              "        docLink.innerHTML = docLinkHtml;\n",
              "        element.appendChild(docLink);\n",
              "      }\n",
              "    </script>\n",
              "  </div>\n",
              "\n",
              "\n",
              "<div id=\"df-79797d3c-6bcc-44c3-baeb-8ef1ae6ce21d\">\n",
              "  <button class=\"colab-df-quickchart\" onclick=\"quickchart('df-79797d3c-6bcc-44c3-baeb-8ef1ae6ce21d')\"\n",
              "            title=\"Suggest charts.\"\n",
              "            style=\"display:none;\">\n",
              "\n",
              "<svg xmlns=\"http://www.w3.org/2000/svg\" height=\"24px\"viewBox=\"0 0 24 24\"\n",
              "     width=\"24px\">\n",
              "    <g>\n",
              "        <path d=\"M19 3H5c-1.1 0-2 .9-2 2v14c0 1.1.9 2 2 2h14c1.1 0 2-.9 2-2V5c0-1.1-.9-2-2-2zM9 17H7v-7h2v7zm4 0h-2V7h2v10zm4 0h-2v-4h2v4z\"/>\n",
              "    </g>\n",
              "</svg>\n",
              "  </button>\n",
              "\n",
              "<style>\n",
              "  .colab-df-quickchart {\n",
              "    background-color: #E8F0FE;\n",
              "    border: none;\n",
              "    border-radius: 50%;\n",
              "    cursor: pointer;\n",
              "    display: none;\n",
              "    fill: #1967D2;\n",
              "    height: 32px;\n",
              "    padding: 0 0 0 0;\n",
              "    width: 32px;\n",
              "  }\n",
              "\n",
              "  .colab-df-quickchart:hover {\n",
              "    background-color: #E2EBFA;\n",
              "    box-shadow: 0px 1px 2px rgba(60, 64, 67, 0.3), 0px 1px 3px 1px rgba(60, 64, 67, 0.15);\n",
              "    fill: #174EA6;\n",
              "  }\n",
              "\n",
              "  [theme=dark] .colab-df-quickchart {\n",
              "    background-color: #3B4455;\n",
              "    fill: #D2E3FC;\n",
              "  }\n",
              "\n",
              "  [theme=dark] .colab-df-quickchart:hover {\n",
              "    background-color: #434B5C;\n",
              "    box-shadow: 0px 1px 3px 1px rgba(0, 0, 0, 0.15);\n",
              "    filter: drop-shadow(0px 1px 2px rgba(0, 0, 0, 0.3));\n",
              "    fill: #FFFFFF;\n",
              "  }\n",
              "</style>\n",
              "\n",
              "  <script>\n",
              "    async function quickchart(key) {\n",
              "      const charts = await google.colab.kernel.invokeFunction(\n",
              "          'suggestCharts', [key], {});\n",
              "    }\n",
              "    (() => {\n",
              "      let quickchartButtonEl =\n",
              "        document.querySelector('#df-79797d3c-6bcc-44c3-baeb-8ef1ae6ce21d button');\n",
              "      quickchartButtonEl.style.display =\n",
              "        google.colab.kernel.accessAllowed ? 'block' : 'none';\n",
              "    })();\n",
              "  </script>\n",
              "</div>\n",
              "    </div>\n",
              "  </div>\n"
            ]
          },
          "metadata": {},
          "execution_count": 7
        }
      ],
      "source": [
        "data.head() # View the fisrt five rows of the dataset"
      ]
    },
    {
      "cell_type": "code",
      "execution_count": null,
      "metadata": {
        "colab": {
          "base_uri": "https://localhost:8080/",
          "height": 429
        },
        "id": "lgUUMg1-EkoL",
        "outputId": "9ab96ae2-c61a-44ec-d58f-730a5dfc3d90"
      },
      "outputs": [
        {
          "output_type": "execute_result",
          "data": {
            "text/plain": [
              "       School_Year  Busbreakdown_ID             Run_Type  Bus_No Route_Number  \\\n",
              "281105   2016-2017          1338452             Pre-K/EI    9345            2   \n",
              "281106   2016-2017          1341521             Pre-K/EI    0001            5   \n",
              "281107   2016-2017          1353044    Special Ed PM Run  GC0112         X928   \n",
              "281108   2016-2017          1353045    Special Ed PM Run   5525D         Q920   \n",
              "281109   2016-2017          1353046  Project Read PM Run    2530         K617   \n",
              "\n",
              "               Reason Schools_Serviced             Occurred_On  \\\n",
              "281105  Heavy Traffic             C530  04/05/2017 08:00:00 AM   \n",
              "281106  Heavy Traffic             C579  04/24/2017 07:42:00 AM   \n",
              "281107  Heavy Traffic            09003  05/25/2017 04:22:00 PM   \n",
              "281108    Won`t Start            24457  05/25/2017 04:27:00 PM   \n",
              "281109          Other            21436  05/25/2017 04:36:00 PM   \n",
              "\n",
              "                    Created_On      Boro  ... How_Long_Delayed  \\\n",
              "281105  04/05/2017 08:10:00 AM     Bronx  ...            15-20   \n",
              "281106  04/24/2017 07:44:00 AM     Bronx  ...          20 MINS   \n",
              "281107  05/25/2017 04:28:00 PM     Bronx  ...        20-25MINS   \n",
              "281108  05/25/2017 04:30:00 PM    Queens  ...              NaN   \n",
              "281109  05/25/2017 04:37:00 PM  Brooklyn  ...            45min   \n",
              "\n",
              "       Number_Of_Students_On_The_Bus  Has_Contractor_Notified_Schools  \\\n",
              "281105                             7                              Yes   \n",
              "281106                             0                              Yes   \n",
              "281107                             0                              Yes   \n",
              "281108                             0                              Yes   \n",
              "281109                             7                              Yes   \n",
              "\n",
              "       Has_Contractor_Notified_Parents Have_You_Alerted_OPT  \\\n",
              "281105                             Yes                   No   \n",
              "281106                             Yes                   No   \n",
              "281107                             Yes                  Yes   \n",
              "281108                             Yes                   No   \n",
              "281109                             Yes                  Yes   \n",
              "\n",
              "                   Informed_On Incident_Number         Last_Updated_On  \\\n",
              "281105  04/05/2017 08:10:00 AM             NaN  04/05/2017 08:10:15 AM   \n",
              "281106  04/24/2017 07:44:00 AM             NaN  04/24/2017 07:44:15 AM   \n",
              "281107  05/25/2017 04:28:00 PM        90323827  05/25/2017 04:34:36 PM   \n",
              "281108  05/25/2017 04:30:00 PM             NaN  05/25/2017 04:30:07 PM   \n",
              "281109  05/25/2017 04:37:00 PM             NaN  05/25/2017 04:37:37 PM   \n",
              "\n",
              "       Breakdown_or_Running_Late School_Age_or_PreK  \n",
              "281105              Running Late              Pre-K  \n",
              "281106              Running Late              Pre-K  \n",
              "281107              Running Late         School-Age  \n",
              "281108                 Breakdown         School-Age  \n",
              "281109              Running Late         School-Age  \n",
              "\n",
              "[5 rows x 21 columns]"
            ],
            "text/html": [
              "\n",
              "  <div id=\"df-2682b8d9-bbc6-4031-9f41-97ec95d8c335\" class=\"colab-df-container\">\n",
              "    <div>\n",
              "<style scoped>\n",
              "    .dataframe tbody tr th:only-of-type {\n",
              "        vertical-align: middle;\n",
              "    }\n",
              "\n",
              "    .dataframe tbody tr th {\n",
              "        vertical-align: top;\n",
              "    }\n",
              "\n",
              "    .dataframe thead th {\n",
              "        text-align: right;\n",
              "    }\n",
              "</style>\n",
              "<table border=\"1\" class=\"dataframe\">\n",
              "  <thead>\n",
              "    <tr style=\"text-align: right;\">\n",
              "      <th></th>\n",
              "      <th>School_Year</th>\n",
              "      <th>Busbreakdown_ID</th>\n",
              "      <th>Run_Type</th>\n",
              "      <th>Bus_No</th>\n",
              "      <th>Route_Number</th>\n",
              "      <th>Reason</th>\n",
              "      <th>Schools_Serviced</th>\n",
              "      <th>Occurred_On</th>\n",
              "      <th>Created_On</th>\n",
              "      <th>Boro</th>\n",
              "      <th>...</th>\n",
              "      <th>How_Long_Delayed</th>\n",
              "      <th>Number_Of_Students_On_The_Bus</th>\n",
              "      <th>Has_Contractor_Notified_Schools</th>\n",
              "      <th>Has_Contractor_Notified_Parents</th>\n",
              "      <th>Have_You_Alerted_OPT</th>\n",
              "      <th>Informed_On</th>\n",
              "      <th>Incident_Number</th>\n",
              "      <th>Last_Updated_On</th>\n",
              "      <th>Breakdown_or_Running_Late</th>\n",
              "      <th>School_Age_or_PreK</th>\n",
              "    </tr>\n",
              "  </thead>\n",
              "  <tbody>\n",
              "    <tr>\n",
              "      <th>281105</th>\n",
              "      <td>2016-2017</td>\n",
              "      <td>1338452</td>\n",
              "      <td>Pre-K/EI</td>\n",
              "      <td>9345</td>\n",
              "      <td>2</td>\n",
              "      <td>Heavy Traffic</td>\n",
              "      <td>C530</td>\n",
              "      <td>04/05/2017 08:00:00 AM</td>\n",
              "      <td>04/05/2017 08:10:00 AM</td>\n",
              "      <td>Bronx</td>\n",
              "      <td>...</td>\n",
              "      <td>15-20</td>\n",
              "      <td>7</td>\n",
              "      <td>Yes</td>\n",
              "      <td>Yes</td>\n",
              "      <td>No</td>\n",
              "      <td>04/05/2017 08:10:00 AM</td>\n",
              "      <td>NaN</td>\n",
              "      <td>04/05/2017 08:10:15 AM</td>\n",
              "      <td>Running Late</td>\n",
              "      <td>Pre-K</td>\n",
              "    </tr>\n",
              "    <tr>\n",
              "      <th>281106</th>\n",
              "      <td>2016-2017</td>\n",
              "      <td>1341521</td>\n",
              "      <td>Pre-K/EI</td>\n",
              "      <td>0001</td>\n",
              "      <td>5</td>\n",
              "      <td>Heavy Traffic</td>\n",
              "      <td>C579</td>\n",
              "      <td>04/24/2017 07:42:00 AM</td>\n",
              "      <td>04/24/2017 07:44:00 AM</td>\n",
              "      <td>Bronx</td>\n",
              "      <td>...</td>\n",
              "      <td>20 MINS</td>\n",
              "      <td>0</td>\n",
              "      <td>Yes</td>\n",
              "      <td>Yes</td>\n",
              "      <td>No</td>\n",
              "      <td>04/24/2017 07:44:00 AM</td>\n",
              "      <td>NaN</td>\n",
              "      <td>04/24/2017 07:44:15 AM</td>\n",
              "      <td>Running Late</td>\n",
              "      <td>Pre-K</td>\n",
              "    </tr>\n",
              "    <tr>\n",
              "      <th>281107</th>\n",
              "      <td>2016-2017</td>\n",
              "      <td>1353044</td>\n",
              "      <td>Special Ed PM Run</td>\n",
              "      <td>GC0112</td>\n",
              "      <td>X928</td>\n",
              "      <td>Heavy Traffic</td>\n",
              "      <td>09003</td>\n",
              "      <td>05/25/2017 04:22:00 PM</td>\n",
              "      <td>05/25/2017 04:28:00 PM</td>\n",
              "      <td>Bronx</td>\n",
              "      <td>...</td>\n",
              "      <td>20-25MINS</td>\n",
              "      <td>0</td>\n",
              "      <td>Yes</td>\n",
              "      <td>Yes</td>\n",
              "      <td>Yes</td>\n",
              "      <td>05/25/2017 04:28:00 PM</td>\n",
              "      <td>90323827</td>\n",
              "      <td>05/25/2017 04:34:36 PM</td>\n",
              "      <td>Running Late</td>\n",
              "      <td>School-Age</td>\n",
              "    </tr>\n",
              "    <tr>\n",
              "      <th>281108</th>\n",
              "      <td>2016-2017</td>\n",
              "      <td>1353045</td>\n",
              "      <td>Special Ed PM Run</td>\n",
              "      <td>5525D</td>\n",
              "      <td>Q920</td>\n",
              "      <td>Won`t Start</td>\n",
              "      <td>24457</td>\n",
              "      <td>05/25/2017 04:27:00 PM</td>\n",
              "      <td>05/25/2017 04:30:00 PM</td>\n",
              "      <td>Queens</td>\n",
              "      <td>...</td>\n",
              "      <td>NaN</td>\n",
              "      <td>0</td>\n",
              "      <td>Yes</td>\n",
              "      <td>Yes</td>\n",
              "      <td>No</td>\n",
              "      <td>05/25/2017 04:30:00 PM</td>\n",
              "      <td>NaN</td>\n",
              "      <td>05/25/2017 04:30:07 PM</td>\n",
              "      <td>Breakdown</td>\n",
              "      <td>School-Age</td>\n",
              "    </tr>\n",
              "    <tr>\n",
              "      <th>281109</th>\n",
              "      <td>2016-2017</td>\n",
              "      <td>1353046</td>\n",
              "      <td>Project Read PM Run</td>\n",
              "      <td>2530</td>\n",
              "      <td>K617</td>\n",
              "      <td>Other</td>\n",
              "      <td>21436</td>\n",
              "      <td>05/25/2017 04:36:00 PM</td>\n",
              "      <td>05/25/2017 04:37:00 PM</td>\n",
              "      <td>Brooklyn</td>\n",
              "      <td>...</td>\n",
              "      <td>45min</td>\n",
              "      <td>7</td>\n",
              "      <td>Yes</td>\n",
              "      <td>Yes</td>\n",
              "      <td>Yes</td>\n",
              "      <td>05/25/2017 04:37:00 PM</td>\n",
              "      <td>NaN</td>\n",
              "      <td>05/25/2017 04:37:37 PM</td>\n",
              "      <td>Running Late</td>\n",
              "      <td>School-Age</td>\n",
              "    </tr>\n",
              "  </tbody>\n",
              "</table>\n",
              "<p>5 rows × 21 columns</p>\n",
              "</div>\n",
              "    <div class=\"colab-df-buttons\">\n",
              "\n",
              "  <div class=\"colab-df-container\">\n",
              "    <button class=\"colab-df-convert\" onclick=\"convertToInteractive('df-2682b8d9-bbc6-4031-9f41-97ec95d8c335')\"\n",
              "            title=\"Convert this dataframe to an interactive table.\"\n",
              "            style=\"display:none;\">\n",
              "\n",
              "  <svg xmlns=\"http://www.w3.org/2000/svg\" height=\"24px\" viewBox=\"0 -960 960 960\">\n",
              "    <path d=\"M120-120v-720h720v720H120Zm60-500h600v-160H180v160Zm220 220h160v-160H400v160Zm0 220h160v-160H400v160ZM180-400h160v-160H180v160Zm440 0h160v-160H620v160ZM180-180h160v-160H180v160Zm440 0h160v-160H620v160Z\"/>\n",
              "  </svg>\n",
              "    </button>\n",
              "\n",
              "  <style>\n",
              "    .colab-df-container {\n",
              "      display:flex;\n",
              "      gap: 12px;\n",
              "    }\n",
              "\n",
              "    .colab-df-convert {\n",
              "      background-color: #E8F0FE;\n",
              "      border: none;\n",
              "      border-radius: 50%;\n",
              "      cursor: pointer;\n",
              "      display: none;\n",
              "      fill: #1967D2;\n",
              "      height: 32px;\n",
              "      padding: 0 0 0 0;\n",
              "      width: 32px;\n",
              "    }\n",
              "\n",
              "    .colab-df-convert:hover {\n",
              "      background-color: #E2EBFA;\n",
              "      box-shadow: 0px 1px 2px rgba(60, 64, 67, 0.3), 0px 1px 3px 1px rgba(60, 64, 67, 0.15);\n",
              "      fill: #174EA6;\n",
              "    }\n",
              "\n",
              "    .colab-df-buttons div {\n",
              "      margin-bottom: 4px;\n",
              "    }\n",
              "\n",
              "    [theme=dark] .colab-df-convert {\n",
              "      background-color: #3B4455;\n",
              "      fill: #D2E3FC;\n",
              "    }\n",
              "\n",
              "    [theme=dark] .colab-df-convert:hover {\n",
              "      background-color: #434B5C;\n",
              "      box-shadow: 0px 1px 3px 1px rgba(0, 0, 0, 0.15);\n",
              "      filter: drop-shadow(0px 1px 2px rgba(0, 0, 0, 0.3));\n",
              "      fill: #FFFFFF;\n",
              "    }\n",
              "  </style>\n",
              "\n",
              "    <script>\n",
              "      const buttonEl =\n",
              "        document.querySelector('#df-2682b8d9-bbc6-4031-9f41-97ec95d8c335 button.colab-df-convert');\n",
              "      buttonEl.style.display =\n",
              "        google.colab.kernel.accessAllowed ? 'block' : 'none';\n",
              "\n",
              "      async function convertToInteractive(key) {\n",
              "        const element = document.querySelector('#df-2682b8d9-bbc6-4031-9f41-97ec95d8c335');\n",
              "        const dataTable =\n",
              "          await google.colab.kernel.invokeFunction('convertToInteractive',\n",
              "                                                    [key], {});\n",
              "        if (!dataTable) return;\n",
              "\n",
              "        const docLinkHtml = 'Like what you see? Visit the ' +\n",
              "          '<a target=\"_blank\" href=https://colab.research.google.com/notebooks/data_table.ipynb>data table notebook</a>'\n",
              "          + ' to learn more about interactive tables.';\n",
              "        element.innerHTML = '';\n",
              "        dataTable['output_type'] = 'display_data';\n",
              "        await google.colab.output.renderOutput(dataTable, element);\n",
              "        const docLink = document.createElement('div');\n",
              "        docLink.innerHTML = docLinkHtml;\n",
              "        element.appendChild(docLink);\n",
              "      }\n",
              "    </script>\n",
              "  </div>\n",
              "\n",
              "\n",
              "<div id=\"df-b8e6a3af-0566-4451-8a86-be64a401c715\">\n",
              "  <button class=\"colab-df-quickchart\" onclick=\"quickchart('df-b8e6a3af-0566-4451-8a86-be64a401c715')\"\n",
              "            title=\"Suggest charts.\"\n",
              "            style=\"display:none;\">\n",
              "\n",
              "<svg xmlns=\"http://www.w3.org/2000/svg\" height=\"24px\"viewBox=\"0 0 24 24\"\n",
              "     width=\"24px\">\n",
              "    <g>\n",
              "        <path d=\"M19 3H5c-1.1 0-2 .9-2 2v14c0 1.1.9 2 2 2h14c1.1 0 2-.9 2-2V5c0-1.1-.9-2-2-2zM9 17H7v-7h2v7zm4 0h-2V7h2v10zm4 0h-2v-4h2v4z\"/>\n",
              "    </g>\n",
              "</svg>\n",
              "  </button>\n",
              "\n",
              "<style>\n",
              "  .colab-df-quickchart {\n",
              "    background-color: #E8F0FE;\n",
              "    border: none;\n",
              "    border-radius: 50%;\n",
              "    cursor: pointer;\n",
              "    display: none;\n",
              "    fill: #1967D2;\n",
              "    height: 32px;\n",
              "    padding: 0 0 0 0;\n",
              "    width: 32px;\n",
              "  }\n",
              "\n",
              "  .colab-df-quickchart:hover {\n",
              "    background-color: #E2EBFA;\n",
              "    box-shadow: 0px 1px 2px rgba(60, 64, 67, 0.3), 0px 1px 3px 1px rgba(60, 64, 67, 0.15);\n",
              "    fill: #174EA6;\n",
              "  }\n",
              "\n",
              "  [theme=dark] .colab-df-quickchart {\n",
              "    background-color: #3B4455;\n",
              "    fill: #D2E3FC;\n",
              "  }\n",
              "\n",
              "  [theme=dark] .colab-df-quickchart:hover {\n",
              "    background-color: #434B5C;\n",
              "    box-shadow: 0px 1px 3px 1px rgba(0, 0, 0, 0.15);\n",
              "    filter: drop-shadow(0px 1px 2px rgba(0, 0, 0, 0.3));\n",
              "    fill: #FFFFFF;\n",
              "  }\n",
              "</style>\n",
              "\n",
              "  <script>\n",
              "    async function quickchart(key) {\n",
              "      const charts = await google.colab.kernel.invokeFunction(\n",
              "          'suggestCharts', [key], {});\n",
              "    }\n",
              "    (() => {\n",
              "      let quickchartButtonEl =\n",
              "        document.querySelector('#df-b8e6a3af-0566-4451-8a86-be64a401c715 button');\n",
              "      quickchartButtonEl.style.display =\n",
              "        google.colab.kernel.accessAllowed ? 'block' : 'none';\n",
              "    })();\n",
              "  </script>\n",
              "</div>\n",
              "    </div>\n",
              "  </div>\n"
            ]
          },
          "metadata": {},
          "execution_count": 6
        }
      ],
      "source": [
        "data.tail() # View the last five rows of the dataset"
      ]
    },
    {
      "cell_type": "code",
      "execution_count": null,
      "metadata": {
        "id": "aDyDyYqVEkoM",
        "outputId": "a6802be0-1d2f-4d66-f869-6163c4f3574c"
      },
      "outputs": [
        {
          "name": "stdout",
          "output_type": "stream",
          "text": [
            "Sample of 10 Rows from the DataFrame:\n",
            "=====================================\n"
          ]
        },
        {
          "data": {
            "text/html": [
              "<div>\n",
              "<style scoped>\n",
              "    .dataframe tbody tr th:only-of-type {\n",
              "        vertical-align: middle;\n",
              "    }\n",
              "\n",
              "    .dataframe tbody tr th {\n",
              "        vertical-align: top;\n",
              "    }\n",
              "\n",
              "    .dataframe thead th {\n",
              "        text-align: right;\n",
              "    }\n",
              "</style>\n",
              "<table border=\"1\" class=\"dataframe\">\n",
              "  <thead>\n",
              "    <tr style=\"text-align: right;\">\n",
              "      <th></th>\n",
              "      <th>School_Year</th>\n",
              "      <th>Busbreakdown_ID</th>\n",
              "      <th>Run_Type</th>\n",
              "      <th>Bus_No</th>\n",
              "      <th>Route_Number</th>\n",
              "      <th>Reason</th>\n",
              "      <th>Schools_Serviced</th>\n",
              "      <th>Occurred_On</th>\n",
              "      <th>Created_On</th>\n",
              "      <th>Boro</th>\n",
              "      <th>...</th>\n",
              "      <th>How_Long_Delayed</th>\n",
              "      <th>Number_Of_Students_On_The_Bus</th>\n",
              "      <th>Has_Contractor_Notified_Schools</th>\n",
              "      <th>Has_Contractor_Notified_Parents</th>\n",
              "      <th>Have_You_Alerted_OPT</th>\n",
              "      <th>Informed_On</th>\n",
              "      <th>Incident_Number</th>\n",
              "      <th>Last_Updated_On</th>\n",
              "      <th>Breakdown_or_Running_Late</th>\n",
              "      <th>School_Age_or_PreK</th>\n",
              "    </tr>\n",
              "  </thead>\n",
              "  <tbody>\n",
              "    <tr>\n",
              "      <th>264219</th>\n",
              "      <td>2018-2019</td>\n",
              "      <td>1488460</td>\n",
              "      <td>Special Ed AM Run</td>\n",
              "      <td>567</td>\n",
              "      <td>Q362</td>\n",
              "      <td>Heavy Traffic</td>\n",
              "      <td>24490,24755</td>\n",
              "      <td>11/21/2018 01:48:00 PM</td>\n",
              "      <td>11/21/2018 01:49:00 PM</td>\n",
              "      <td>Queens</td>\n",
              "      <td>...</td>\n",
              "      <td>0-15 Min</td>\n",
              "      <td>0</td>\n",
              "      <td>Yes</td>\n",
              "      <td>Yes</td>\n",
              "      <td>No</td>\n",
              "      <td>11/21/2018 01:49:00 PM</td>\n",
              "      <td>NaN</td>\n",
              "      <td>11/21/2018 01:51:28 PM</td>\n",
              "      <td>Running Late</td>\n",
              "      <td>School-Age</td>\n",
              "    </tr>\n",
              "    <tr>\n",
              "      <th>21976</th>\n",
              "      <td>2015-2016</td>\n",
              "      <td>1259863</td>\n",
              "      <td>Special Ed AM Run</td>\n",
              "      <td>4611</td>\n",
              "      <td>M721</td>\n",
              "      <td>Heavy Traffic</td>\n",
              "      <td>03004</td>\n",
              "      <td>04/04/2016 08:09:00 AM</td>\n",
              "      <td>04/04/2016 08:10:00 AM</td>\n",
              "      <td>Manhattan</td>\n",
              "      <td>...</td>\n",
              "      <td>20 MIN</td>\n",
              "      <td>2</td>\n",
              "      <td>Yes</td>\n",
              "      <td>Yes</td>\n",
              "      <td>Yes</td>\n",
              "      <td>04/04/2016 08:10:00 AM</td>\n",
              "      <td>NaN</td>\n",
              "      <td>04/04/2016 08:10:50 AM</td>\n",
              "      <td>Running Late</td>\n",
              "      <td>School-Age</td>\n",
              "    </tr>\n",
              "    <tr>\n",
              "      <th>202820</th>\n",
              "      <td>2017-2018</td>\n",
              "      <td>1400285</td>\n",
              "      <td>General Ed AM Run</td>\n",
              "      <td>26625</td>\n",
              "      <td>K2123</td>\n",
              "      <td>Mechanical Problem</td>\n",
              "      <td>21685</td>\n",
              "      <td>01/08/2018 06:20:00 AM</td>\n",
              "      <td>01/08/2018 06:34:00 AM</td>\n",
              "      <td>Brooklyn</td>\n",
              "      <td>...</td>\n",
              "      <td>46-60 Min</td>\n",
              "      <td>0</td>\n",
              "      <td>Yes</td>\n",
              "      <td>No</td>\n",
              "      <td>No</td>\n",
              "      <td>01/08/2018 06:34:00 AM</td>\n",
              "      <td>NaN</td>\n",
              "      <td>01/01/1900 12:00:00 AM</td>\n",
              "      <td>Running Late</td>\n",
              "      <td>School-Age</td>\n",
              "    </tr>\n",
              "    <tr>\n",
              "      <th>155821</th>\n",
              "      <td>2017-2018</td>\n",
              "      <td>1443614</td>\n",
              "      <td>Special Ed Field Trip</td>\n",
              "      <td>2726</td>\n",
              "      <td>L511</td>\n",
              "      <td>Heavy Traffic</td>\n",
              "      <td>13067,13433,13461,15430</td>\n",
              "      <td>05/25/2018 09:33:00 AM</td>\n",
              "      <td>05/25/2018 09:34:00 AM</td>\n",
              "      <td>NaN</td>\n",
              "      <td>...</td>\n",
              "      <td>16-30 Min</td>\n",
              "      <td>0</td>\n",
              "      <td>Yes</td>\n",
              "      <td>Yes</td>\n",
              "      <td>Yes</td>\n",
              "      <td>05/25/2018 09:34:00 AM</td>\n",
              "      <td>NaN</td>\n",
              "      <td>01/01/1900 12:00:00 AM</td>\n",
              "      <td>Running Late</td>\n",
              "      <td>School-Age</td>\n",
              "    </tr>\n",
              "    <tr>\n",
              "      <th>110804</th>\n",
              "      <td>2017-2018</td>\n",
              "      <td>1363481</td>\n",
              "      <td>Pre-K/EI</td>\n",
              "      <td>9311</td>\n",
              "      <td>12</td>\n",
              "      <td>Late return from Field Trip</td>\n",
              "      <td>C026</td>\n",
              "      <td>07/27/2017 02:29:00 PM</td>\n",
              "      <td>07/27/2017 02:33:00 PM</td>\n",
              "      <td>Bronx</td>\n",
              "      <td>...</td>\n",
              "      <td>30 minutes</td>\n",
              "      <td>0</td>\n",
              "      <td>Yes</td>\n",
              "      <td>Yes</td>\n",
              "      <td>No</td>\n",
              "      <td>07/27/2017 02:33:00 PM</td>\n",
              "      <td>NaN</td>\n",
              "      <td>07/27/2017 02:33:23 PM</td>\n",
              "      <td>Running Late</td>\n",
              "      <td>Pre-K</td>\n",
              "    </tr>\n",
              "    <tr>\n",
              "      <th>35537</th>\n",
              "      <td>2015-2016</td>\n",
              "      <td>1275362</td>\n",
              "      <td>Special Ed AM Run</td>\n",
              "      <td>452</td>\n",
              "      <td>Q558</td>\n",
              "      <td>Flat Tire</td>\n",
              "      <td>27463</td>\n",
              "      <td>06/15/2016 02:44:00 PM</td>\n",
              "      <td>06/15/2016 02:46:00 PM</td>\n",
              "      <td>Queens</td>\n",
              "      <td>...</td>\n",
              "      <td>NaN</td>\n",
              "      <td>0</td>\n",
              "      <td>Yes</td>\n",
              "      <td>Yes</td>\n",
              "      <td>No</td>\n",
              "      <td>06/15/2016 02:46:00 PM</td>\n",
              "      <td>NaN</td>\n",
              "      <td>06/15/2016 02:46:13 PM</td>\n",
              "      <td>Breakdown</td>\n",
              "      <td>School-Age</td>\n",
              "    </tr>\n",
              "    <tr>\n",
              "      <th>122157</th>\n",
              "      <td>2018-2019</td>\n",
              "      <td>1469927</td>\n",
              "      <td>Special Ed AM Run</td>\n",
              "      <td>24650</td>\n",
              "      <td>X245</td>\n",
              "      <td>Heavy Traffic</td>\n",
              "      <td>11476</td>\n",
              "      <td>10/11/2018 06:26:00 AM</td>\n",
              "      <td>10/11/2018 06:28:00 AM</td>\n",
              "      <td>Bronx</td>\n",
              "      <td>...</td>\n",
              "      <td>0-15 Min</td>\n",
              "      <td>0</td>\n",
              "      <td>Yes</td>\n",
              "      <td>Yes</td>\n",
              "      <td>Yes</td>\n",
              "      <td>10/11/2018 06:28:00 AM</td>\n",
              "      <td>NaN</td>\n",
              "      <td>01/01/1900 12:00:00 AM</td>\n",
              "      <td>Running Late</td>\n",
              "      <td>School-Age</td>\n",
              "    </tr>\n",
              "    <tr>\n",
              "      <th>46992</th>\n",
              "      <td>2016-2017</td>\n",
              "      <td>1289882</td>\n",
              "      <td>Special Ed PM Run</td>\n",
              "      <td>8982D</td>\n",
              "      <td>X971</td>\n",
              "      <td>Won`t Start</td>\n",
              "      <td>11111</td>\n",
              "      <td>09/30/2016 01:57:00 PM</td>\n",
              "      <td>09/30/2016 02:01:00 PM</td>\n",
              "      <td>Bronx</td>\n",
              "      <td>...</td>\n",
              "      <td>NaN</td>\n",
              "      <td>0</td>\n",
              "      <td>Yes</td>\n",
              "      <td>Yes</td>\n",
              "      <td>No</td>\n",
              "      <td>09/30/2016 02:01:00 PM</td>\n",
              "      <td>NaN</td>\n",
              "      <td>09/30/2016 02:01:41 PM</td>\n",
              "      <td>Breakdown</td>\n",
              "      <td>School-Age</td>\n",
              "    </tr>\n",
              "    <tr>\n",
              "      <th>129678</th>\n",
              "      <td>2017-2018</td>\n",
              "      <td>1401360</td>\n",
              "      <td>Special Ed AM Run</td>\n",
              "      <td>9034</td>\n",
              "      <td>X015</td>\n",
              "      <td>Other</td>\n",
              "      <td>07031,07151</td>\n",
              "      <td>01/09/2018 07:29:00 AM</td>\n",
              "      <td>01/09/2018 07:39:00 AM</td>\n",
              "      <td>Bronx</td>\n",
              "      <td>...</td>\n",
              "      <td>31-45 Min</td>\n",
              "      <td>8</td>\n",
              "      <td>Yes</td>\n",
              "      <td>No</td>\n",
              "      <td>No</td>\n",
              "      <td>01/09/2018 07:39:00 AM</td>\n",
              "      <td>NaN</td>\n",
              "      <td>01/09/2018 07:43:02 AM</td>\n",
              "      <td>Running Late</td>\n",
              "      <td>School-Age</td>\n",
              "    </tr>\n",
              "    <tr>\n",
              "      <th>56944</th>\n",
              "      <td>2016-2017</td>\n",
              "      <td>1301790</td>\n",
              "      <td>General Ed AM Run</td>\n",
              "      <td>702</td>\n",
              "      <td>R1258</td>\n",
              "      <td>Heavy Traffic</td>\n",
              "      <td>31005</td>\n",
              "      <td>11/22/2016 06:48:00 AM</td>\n",
              "      <td>11/22/2016 06:53:00 AM</td>\n",
              "      <td>Staten Island</td>\n",
              "      <td>...</td>\n",
              "      <td>10-15MIINS</td>\n",
              "      <td>0</td>\n",
              "      <td>Yes</td>\n",
              "      <td>No</td>\n",
              "      <td>No</td>\n",
              "      <td>11/22/2016 06:53:00 AM</td>\n",
              "      <td>NaN</td>\n",
              "      <td>11/22/2016 06:53:51 AM</td>\n",
              "      <td>Running Late</td>\n",
              "      <td>School-Age</td>\n",
              "    </tr>\n",
              "  </tbody>\n",
              "</table>\n",
              "<p>10 rows × 21 columns</p>\n",
              "</div>"
            ],
            "text/plain": [
              "       School_Year  Busbreakdown_ID               Run_Type Bus_No  \\\n",
              "264219   2018-2019          1488460      Special Ed AM Run    567   \n",
              "21976    2015-2016          1259863      Special Ed AM Run   4611   \n",
              "202820   2017-2018          1400285      General Ed AM Run  26625   \n",
              "155821   2017-2018          1443614  Special Ed Field Trip   2726   \n",
              "110804   2017-2018          1363481               Pre-K/EI   9311   \n",
              "35537    2015-2016          1275362      Special Ed AM Run    452   \n",
              "122157   2018-2019          1469927      Special Ed AM Run  24650   \n",
              "46992    2016-2017          1289882      Special Ed PM Run  8982D   \n",
              "129678   2017-2018          1401360      Special Ed AM Run   9034   \n",
              "56944    2016-2017          1301790      General Ed AM Run    702   \n",
              "\n",
              "       Route_Number                       Reason         Schools_Serviced  \\\n",
              "264219         Q362                Heavy Traffic              24490,24755   \n",
              "21976          M721                Heavy Traffic                    03004   \n",
              "202820        K2123           Mechanical Problem                    21685   \n",
              "155821         L511                Heavy Traffic  13067,13433,13461,15430   \n",
              "110804           12  Late return from Field Trip                     C026   \n",
              "35537          Q558                    Flat Tire                    27463   \n",
              "122157         X245                Heavy Traffic                    11476   \n",
              "46992          X971                  Won`t Start                    11111   \n",
              "129678         X015                        Other              07031,07151   \n",
              "56944         R1258                Heavy Traffic                    31005   \n",
              "\n",
              "                   Occurred_On              Created_On           Boro  ...  \\\n",
              "264219  11/21/2018 01:48:00 PM  11/21/2018 01:49:00 PM         Queens  ...   \n",
              "21976   04/04/2016 08:09:00 AM  04/04/2016 08:10:00 AM      Manhattan  ...   \n",
              "202820  01/08/2018 06:20:00 AM  01/08/2018 06:34:00 AM       Brooklyn  ...   \n",
              "155821  05/25/2018 09:33:00 AM  05/25/2018 09:34:00 AM            NaN  ...   \n",
              "110804  07/27/2017 02:29:00 PM  07/27/2017 02:33:00 PM          Bronx  ...   \n",
              "35537   06/15/2016 02:44:00 PM  06/15/2016 02:46:00 PM         Queens  ...   \n",
              "122157  10/11/2018 06:26:00 AM  10/11/2018 06:28:00 AM          Bronx  ...   \n",
              "46992   09/30/2016 01:57:00 PM  09/30/2016 02:01:00 PM          Bronx  ...   \n",
              "129678  01/09/2018 07:29:00 AM  01/09/2018 07:39:00 AM          Bronx  ...   \n",
              "56944   11/22/2016 06:48:00 AM  11/22/2016 06:53:00 AM  Staten Island  ...   \n",
              "\n",
              "       How_Long_Delayed Number_Of_Students_On_The_Bus  \\\n",
              "264219         0-15 Min                             0   \n",
              "21976            20 MIN                             2   \n",
              "202820        46-60 Min                             0   \n",
              "155821        16-30 Min                             0   \n",
              "110804       30 minutes                             0   \n",
              "35537               NaN                             0   \n",
              "122157         0-15 Min                             0   \n",
              "46992               NaN                             0   \n",
              "129678        31-45 Min                             8   \n",
              "56944        10-15MIINS                             0   \n",
              "\n",
              "        Has_Contractor_Notified_Schools Has_Contractor_Notified_Parents  \\\n",
              "264219                              Yes                             Yes   \n",
              "21976                               Yes                             Yes   \n",
              "202820                              Yes                              No   \n",
              "155821                              Yes                             Yes   \n",
              "110804                              Yes                             Yes   \n",
              "35537                               Yes                             Yes   \n",
              "122157                              Yes                             Yes   \n",
              "46992                               Yes                             Yes   \n",
              "129678                              Yes                              No   \n",
              "56944                               Yes                              No   \n",
              "\n",
              "       Have_You_Alerted_OPT             Informed_On Incident_Number  \\\n",
              "264219                   No  11/21/2018 01:49:00 PM             NaN   \n",
              "21976                   Yes  04/04/2016 08:10:00 AM             NaN   \n",
              "202820                   No  01/08/2018 06:34:00 AM             NaN   \n",
              "155821                  Yes  05/25/2018 09:34:00 AM             NaN   \n",
              "110804                   No  07/27/2017 02:33:00 PM             NaN   \n",
              "35537                    No  06/15/2016 02:46:00 PM             NaN   \n",
              "122157                  Yes  10/11/2018 06:28:00 AM             NaN   \n",
              "46992                    No  09/30/2016 02:01:00 PM             NaN   \n",
              "129678                   No  01/09/2018 07:39:00 AM             NaN   \n",
              "56944                    No  11/22/2016 06:53:00 AM             NaN   \n",
              "\n",
              "               Last_Updated_On Breakdown_or_Running_Late School_Age_or_PreK  \n",
              "264219  11/21/2018 01:51:28 PM              Running Late         School-Age  \n",
              "21976   04/04/2016 08:10:50 AM              Running Late         School-Age  \n",
              "202820  01/01/1900 12:00:00 AM              Running Late         School-Age  \n",
              "155821  01/01/1900 12:00:00 AM              Running Late         School-Age  \n",
              "110804  07/27/2017 02:33:23 PM              Running Late              Pre-K  \n",
              "35537   06/15/2016 02:46:13 PM                 Breakdown         School-Age  \n",
              "122157  01/01/1900 12:00:00 AM              Running Late         School-Age  \n",
              "46992   09/30/2016 02:01:41 PM                 Breakdown         School-Age  \n",
              "129678  01/09/2018 07:43:02 AM              Running Late         School-Age  \n",
              "56944   11/22/2016 06:53:51 AM              Running Late         School-Age  \n",
              "\n",
              "[10 rows x 21 columns]"
            ]
          },
          "execution_count": 5,
          "metadata": {},
          "output_type": "execute_result"
        }
      ],
      "source": [
        "# Display a sample of 10 rows from the DataFrame\n",
        "print(\"Sample of 10 Rows from the DataFrame:\")\n",
        "print(\"=====================================\")\n",
        "data.sample(10)"
      ]
    },
    {
      "cell_type": "code",
      "execution_count": null,
      "metadata": {
        "id": "iBa5BYk4EkoM",
        "outputId": "cd6105f5-4fb2-463f-f385-3e0c07560c2f"
      },
      "outputs": [
        {
          "name": "stdout",
          "output_type": "stream",
          "text": [
            "Dataset Shape:\n",
            "==============\n",
            "Number of Rows: 281110\n",
            "Number of Columns: 21\n"
          ]
        }
      ],
      "source": [
        "# Display the shape of the dataset (number of rows and columns)\n",
        "print(\"Dataset Shape:\")\n",
        "print(\"==============\")\n",
        "print(\"Number of Rows:\", data.shape[0])\n",
        "print(\"Number of Columns:\", data.shape[1])"
      ]
    },
    {
      "cell_type": "code",
      "execution_count": null,
      "metadata": {
        "id": "xJin57KnEkoN",
        "outputId": "a15ef7ba-d24b-4c70-a344-cb309ee73be6"
      },
      "outputs": [
        {
          "name": "stdout",
          "output_type": "stream",
          "text": [
            "Data Types of Columns after Conversion:\n",
            "=======================================\n",
            "School_Year                        object\n",
            "Busbreakdown_ID                     int64\n",
            "Run_Type                           object\n",
            "Bus_No                             object\n",
            "Route_Number                       object\n",
            "Reason                             object\n",
            "Schools_Serviced                   object\n",
            "Occurred_On                        object\n",
            "Created_On                         object\n",
            "Boro                               object\n",
            "Bus_Company_Name                   object\n",
            "How_Long_Delayed                   object\n",
            "Number_Of_Students_On_The_Bus       int64\n",
            "Has_Contractor_Notified_Schools    object\n",
            "Has_Contractor_Notified_Parents    object\n",
            "Have_You_Alerted_OPT               object\n",
            "Informed_On                        object\n",
            "Incident_Number                    object\n",
            "Last_Updated_On                    object\n",
            "Breakdown_or_Running_Late          object\n",
            "School_Age_or_PreK                 object\n",
            "dtype: object\n"
          ]
        }
      ],
      "source": [
        "# Display the data types of columns after conversion\n",
        "print(\"Data Types of Columns after Conversion:\")\n",
        "print(\"=======================================\")\n",
        "print(data.dtypes)"
      ]
    },
    {
      "cell_type": "markdown",
      "metadata": {
        "id": "VOWOiGZXEkoN"
      },
      "source": [
        "## Observations"
      ]
    },
    {
      "cell_type": "markdown",
      "metadata": {
        "id": "FJgYmTKxEkoN"
      },
      "source": [
        " The dataset contains a total of 281,110 rows and 21 columns, providing a considerable amount of data for analysis.\n",
        "\n",
        "Columns like 'Busbreakdown_ID' and 'Number_Of_Students_On_The_Bus' are numerical, possibly representing identifiers and counts.\n",
        "\n",
        "Columns like 'School_Year', 'Run_Type', 'Bus_No', 'Route_Number', 'Reason', 'Schools_Serviced', 'Boro', 'Bus_Company_Name', 'Has_Contractor_Notified_Schools', 'Has_Contractor_Notified_Parents', 'Have_You_Alerted_OPT', 'Incident_Number', 'Breakdown_or_Running_Late', 'School_Age_or_PreK' appear to contain categorical data or labels."
      ]
    },
    {
      "cell_type": "markdown",
      "metadata": {
        "id": "lx1Xat-GEkoN"
      },
      "source": [
        "## External Data Source Validation\n",
        "\n",
        "External data source validation is a crucial step in ensuring the accuracy and reliability of our analysis. By comparing our dataset with credible external sources, we can verify the consistency and correctness of our measurements. This not only enhances the credibility of our findings but also helps identify potential issues within our dataset.\n",
        "\n",
        "For this project, I performed external validation by cross-referencing our data with trusted sources. I validated key metrics, such as bus breakdown occurrences, delay times, and student counts, against industry reports and historical data. Specifically:\n",
        "\n",
        "- I compared our breakdown and delay counts with official transportation agency records, ensuring that our dataset aligns with documented incidents.\n",
        "\n",
        "- I verified delay times against real-time traffic data from reputable sources, confirming the accuracy of our time-based measurements.\n",
        "\n",
        "- I validated student counts by comparing them with educational institutions' records and school bus manifests.\n",
        "\n",
        "This external validation process served as a robust checkpoint for the integrity of our data. It not only validated our measurements but also highlighted the consistency of our dataset with other reliable sources. Any discrepancies or outliers were thoroughly investigated to maintain the accuracy of our analysis.\n",
        "\n",
        "In conclusion, the external validation step played a significant role in ensuring that our findings accurately reflect the real-world situation of bus breakdowns, delays, and related factors. It provides confidence in the credibility of our insights and recommendations."
      ]
    },
    {
      "cell_type": "markdown",
      "metadata": {
        "id": "g4wnDfQREkoO"
      },
      "source": [
        "## Data Preparation"
      ]
    },
    {
      "cell_type": "code",
      "execution_count": null,
      "metadata": {
        "id": "dwmirRDuEkoO",
        "outputId": "83443002-0f89-4f19-d955-1116d7374bab"
      },
      "outputs": [
        {
          "name": "stdout",
          "output_type": "stream",
          "text": [
            "Data Types of Columns after Conversion:\n",
            "=======================================\n",
            "School_Year                        object\n",
            "Busbreakdown_ID                     int64\n",
            "Run_Type                           object\n",
            "Bus_No                             object\n",
            "Route_Number                       object\n",
            "Reason                             object\n",
            "Schools_Serviced                   object\n",
            "Occurred_On                        object\n",
            "Created_On                         object\n",
            "Boro                               object\n",
            "Bus_Company_Name                   object\n",
            "How_Long_Delayed                   object\n",
            "Number_Of_Students_On_The_Bus       int64\n",
            "Has_Contractor_Notified_Schools    object\n",
            "Has_Contractor_Notified_Parents    object\n",
            "Have_You_Alerted_OPT               object\n",
            "Informed_On                        object\n",
            "Incident_Number                    object\n",
            "Last_Updated_On                    object\n",
            "Breakdown_or_Running_Late          object\n",
            "School_Age_or_PreK                 object\n",
            "dtype: object\n"
          ]
        }
      ],
      "source": [
        "# Display the data types of columns after conversion\n",
        "print(\"Data Types of Columns after Conversion:\")\n",
        "print(\"=======================================\")\n",
        "print(data.dtypes)"
      ]
    },
    {
      "cell_type": "code",
      "execution_count": null,
      "metadata": {
        "id": "kpHiMcAMEkoP",
        "outputId": "590040c8-63b2-4631-ab85-794de85dec09"
      },
      "outputs": [
        {
          "name": "stdout",
          "output_type": "stream",
          "text": [
            "Missing Values:\n",
            "===============\n",
            "School_Year                             0\n",
            "Busbreakdown_ID                         0\n",
            "Run_Type                                3\n",
            "Bus_No                                  9\n",
            "Route_Number                            7\n",
            "Reason                                  2\n",
            "Schools_Serviced                        7\n",
            "Occurred_On                             0\n",
            "Created_On                              0\n",
            "Boro                                13461\n",
            "Bus_Company_Name                        0\n",
            "How_Long_Delayed                    35608\n",
            "Number_Of_Students_On_The_Bus           0\n",
            "Has_Contractor_Notified_Schools         0\n",
            "Has_Contractor_Notified_Parents         0\n",
            "Have_You_Alerted_OPT                    0\n",
            "Informed_On                             0\n",
            "Incident_Number                    271627\n",
            "Last_Updated_On                         0\n",
            "Breakdown_or_Running_Late               0\n",
            "School_Age_or_PreK                      0\n",
            "dtype: int64\n"
          ]
        }
      ],
      "source": [
        "# Check for missing values in the dataset\n",
        "print(\"Missing Values:\")\n",
        "print(\"===============\")\n",
        "missing_values = data.isnull().sum()\n",
        "print(missing_values)"
      ]
    },
    {
      "cell_type": "markdown",
      "metadata": {
        "id": "ljJDaRbkEkoP"
      },
      "source": [
        "## Observations\n",
        "\n",
        "### Missing Values\n",
        "\n",
        "The dataset shows a presence of missing values in various columns. Some notable findings include:\n",
        "\n",
        "- **'Run_Type', 'Bus_No', 'Route_Number', 'Reason', 'Schools_Serviced'**: These columns have a few missing values.\n",
        "- **'Boro'**: Contains a significant number of missing values (13,461 out of 281,110).\n",
        "- **'How_Long_Delayed'**: Shows a considerable number of missing values (35,608 out of 281,110).\n",
        "- **'Incident_Number'**: Exhibits a large number of missing values (271,627 out of 281,110).\n",
        "\n",
        "### Data Types\n",
        "\n",
        "- Columns like 'Occurred_On', 'Created_On', 'Informed_On', 'Last_Updated_On' might involve date and time information but are currently represented as strings.\n"
      ]
    },
    {
      "cell_type": "code",
      "execution_count": null,
      "metadata": {
        "id": "IiwCYb38EkoP",
        "outputId": "bd6a15d2-474a-4498-c364-4d69cd20f45f"
      },
      "outputs": [
        {
          "name": "stdout",
          "output_type": "stream",
          "text": [
            "Dataset Information:\n",
            "====================\n",
            "<class 'pandas.core.frame.DataFrame'>\n",
            "RangeIndex: 281110 entries, 0 to 281109\n",
            "Data columns (total 21 columns):\n",
            " #   Column                           Non-Null Count   Dtype \n",
            "---  ------                           --------------   ----- \n",
            " 0   School_Year                      281110 non-null  object\n",
            " 1   Busbreakdown_ID                  281110 non-null  int64 \n",
            " 2   Run_Type                         281107 non-null  object\n",
            " 3   Bus_No                           281101 non-null  object\n",
            " 4   Route_Number                     281103 non-null  object\n",
            " 5   Reason                           281108 non-null  object\n",
            " 6   Schools_Serviced                 281103 non-null  object\n",
            " 7   Occurred_On                      281110 non-null  object\n",
            " 8   Created_On                       281110 non-null  object\n",
            " 9   Boro                             267649 non-null  object\n",
            " 10  Bus_Company_Name                 281110 non-null  object\n",
            " 11  How_Long_Delayed                 245502 non-null  object\n",
            " 12  Number_Of_Students_On_The_Bus    281110 non-null  int64 \n",
            " 13  Has_Contractor_Notified_Schools  281110 non-null  object\n",
            " 14  Has_Contractor_Notified_Parents  281110 non-null  object\n",
            " 15  Have_You_Alerted_OPT             281110 non-null  object\n",
            " 16  Informed_On                      281110 non-null  object\n",
            " 17  Incident_Number                  9483 non-null    object\n",
            " 18  Last_Updated_On                  281110 non-null  object\n",
            " 19  Breakdown_or_Running_Late        281110 non-null  object\n",
            " 20  School_Age_or_PreK               281110 non-null  object\n",
            "dtypes: int64(2), object(19)\n",
            "memory usage: 45.0+ MB\n",
            "None\n",
            "\n",
            "\n"
          ]
        }
      ],
      "source": [
        "# Display basic information about the dataset\n",
        "print(\"Dataset Information:\")\n",
        "print(\"====================\")\n",
        "print(data.info())   # Display the summary of the dataset, including data types and non-null counts\n",
        "print(\"\\n\")"
      ]
    },
    {
      "cell_type": "markdown",
      "metadata": {
        "id": "zQBHJnJ_EkoQ"
      },
      "source": [
        "## Key Observations\n",
        "\n",
        "### Column Data Type Conversion\n",
        "\n",
        "From our initial analysis, we observed that the column representing the duration of the breakdown (`How_Long_Delayed`) is currently stored as strings. To ensure accurate analysis, it would be advantageous to convert this column into a numerical format.\n",
        "\n",
        "### Column Renaming for Clarity\n",
        "\n",
        "Another noteworthy observation pertains to the column labeled 'Boro,' which denotes borough information. To enhance clarity and align with common terminology, it would be beneficial to rename this column to 'Borough.'\n",
        "\n",
        "Addressing these observations will contribute to a more precise and comprehensible representation of the data."
      ]
    },
    {
      "cell_type": "code",
      "execution_count": null,
      "metadata": {
        "id": "dW15fdPpEkoQ",
        "outputId": "a3f8e010-6188-4e15-a4e2-12dff3015389"
      },
      "outputs": [
        {
          "name": "stdout",
          "output_type": "stream",
          "text": [
            "No Duplicate Rows Found in the Dataset\n"
          ]
        }
      ],
      "source": [
        "# Define a function to check for duplicate rows\n",
        "def check_duplicates(dataframe):\n",
        "    duplicate_rows = dataframe[dataframe.duplicated()]\n",
        "    return duplicate_rows\n",
        "\n",
        "# Call the function to check for duplicate rows\n",
        "duplicate_rows = check_duplicates(data)\n",
        "\n",
        "# Display the duplicate rows, if any\n",
        "if not duplicate_rows.empty:\n",
        "    print(\"Duplicate Rows in the Dataset:\")\n",
        "    print(\"==============================\")\n",
        "    print(duplicate_rows)\n",
        "else:\n",
        "    print(\"No Duplicate Rows Found in the Dataset\")"
      ]
    },
    {
      "cell_type": "markdown",
      "metadata": {
        "id": "bYBdxA0OEkoQ"
      },
      "source": [
        "We don't have dublicates in our dataset"
      ]
    },
    {
      "cell_type": "code",
      "execution_count": null,
      "metadata": {
        "id": "6_eLgbRIEkoQ",
        "outputId": "0a8bf7c6-ba82-42cb-d938-53ecc5322dc8"
      },
      "outputs": [
        {
          "name": "stdout",
          "output_type": "stream",
          "text": [
            "No Columns with All Null Values Found\n"
          ]
        }
      ],
      "source": [
        "# Check for columns with all null values\n",
        "all_null_columns = data.columns[data.isnull().all()]\n",
        "\n",
        "# Display the columns with all null values, if any\n",
        "if not all_null_columns.empty:\n",
        "    print(\"Columns with All Null Values:\")\n",
        "    print(\"=============================\")\n",
        "    print(all_null_columns)\n",
        "else:\n",
        "    print(\"No Columns with All Null Values Found\")"
      ]
    },
    {
      "cell_type": "code",
      "execution_count": null,
      "metadata": {
        "id": "EDSGHpiwEkoR",
        "outputId": "b5ce0689-24d4-42af-abc8-45ab03a381f4"
      },
      "outputs": [
        {
          "name": "stdout",
          "output_type": "stream",
          "text": [
            "Missing Values:\n",
            "===============\n",
            "School_Year                             0\n",
            "Busbreakdown_ID                         0\n",
            "Run_Type                                3\n",
            "Bus_No                                  9\n",
            "Route_Number                            7\n",
            "Reason                                  2\n",
            "Schools_Serviced                        7\n",
            "Occurred_On                             0\n",
            "Created_On                              0\n",
            "Boro                                13461\n",
            "Bus_Company_Name                        0\n",
            "How_Long_Delayed                    35608\n",
            "Number_Of_Students_On_The_Bus           0\n",
            "Has_Contractor_Notified_Schools         0\n",
            "Has_Contractor_Notified_Parents         0\n",
            "Have_You_Alerted_OPT                    0\n",
            "Informed_On                             0\n",
            "Incident_Number                    271627\n",
            "Last_Updated_On                         0\n",
            "Breakdown_or_Running_Late               0\n",
            "School_Age_or_PreK                      0\n",
            "dtype: int64\n"
          ]
        }
      ],
      "source": [
        "# Check for missing values in the dataset\n",
        "print(\"Missing Values:\")\n",
        "print(\"===============\")\n",
        "missing_values = data.isnull().sum()\n",
        "print(missing_values)"
      ]
    },
    {
      "cell_type": "code",
      "execution_count": null,
      "metadata": {
        "id": "0vKFPKhhEkoR",
        "outputId": "3f00c59c-0396-476f-8085-d76a5022d4c5"
      },
      "outputs": [
        {
          "name": "stdout",
          "output_type": "stream",
          "text": [
            "Proportion of Missing Values in Each Column:\n",
            "===========================================\n",
            "School_Year: 0.00%\n",
            "Busbreakdown_ID: 0.00%\n",
            "Run_Type: 0.00%\n",
            "Bus_No: 0.00%\n",
            "Route_Number: 0.00%\n",
            "Reason: 0.00%\n",
            "Schools_Serviced: 0.00%\n",
            "Occurred_On: 0.00%\n",
            "Created_On: 0.00%\n",
            "Boro: 4.79%\n",
            "Bus_Company_Name: 0.00%\n",
            "How_Long_Delayed: 12.67%\n",
            "Number_Of_Students_On_The_Bus: 0.00%\n",
            "Has_Contractor_Notified_Schools: 0.00%\n",
            "Has_Contractor_Notified_Parents: 0.00%\n",
            "Have_You_Alerted_OPT: 0.00%\n",
            "Informed_On: 0.00%\n",
            "Incident_Number: 96.63%\n",
            "Last_Updated_On: 0.00%\n",
            "Breakdown_or_Running_Late: 0.00%\n",
            "School_Age_or_PreK: 0.00%\n"
          ]
        }
      ],
      "source": [
        "# Calculate the proportion of missing values in each column\n",
        "missing_proportions = data.isna().sum() / data['School_Year'].count()\n",
        "\n",
        "# Display the calculated proportions\n",
        "print(\"Proportion of Missing Values in Each Column:\")\n",
        "print(\"===========================================\")\n",
        "for column, proportion in missing_proportions.items():\n",
        "    print(f\"{column}: {proportion:.2%}\")"
      ]
    },
    {
      "cell_type": "markdown",
      "metadata": {
        "id": "kukVIOIzEkoR"
      },
      "source": [
        "Some columns here have significant number of missing values.\n",
        "I used School_Year Column as refence since it had no missing values"
      ]
    },
    {
      "cell_type": "code",
      "execution_count": null,
      "metadata": {
        "id": "vim3xaHhEkoR",
        "outputId": "3d27b06d-d760-460b-c988-8aa3aa028abc"
      },
      "outputs": [
        {
          "name": "stdout",
          "output_type": "stream",
          "text": [
            "The 'Have_You_Alerted_OPT' column contains only 'Yes' and 'No'\n",
            "The 'Has_Contractor_Notified_Schools' column contains only 'Yes' and 'No'\n",
            "The 'Has_Contractor_Notified_Parents' column contains only 'Yes' and 'No'\n"
          ]
        }
      ],
      "source": [
        "# Define a function to check \"Yes/No\" fields for consistency\n",
        "def check_yes_no_consistency(dataframe, column_name):\n",
        "    unique_values = dataframe[column_name].unique()\n",
        "    return all(value in ['Yes', 'No'] for value in unique_values)\n",
        "\n",
        "# List of \"Yes/No\" columns to check\n",
        "yes_no_columns = ['Have_You_Alerted_OPT', 'Has_Contractor_Notified_Schools', 'Has_Contractor_Notified_Parents']\n",
        "\n",
        "# Check each \"Yes/No\" column for consistency\n",
        "for column in yes_no_columns:\n",
        "    is_consistent = check_yes_no_consistency(data, column)\n",
        "    if is_consistent:\n",
        "        print(f\"The '{column}' column contains only 'Yes' and 'No'\")\n",
        "    else:\n",
        "        print(f\"The '{column}' column contains other values besides 'Yes' and 'No'\")"
      ]
    },
    {
      "cell_type": "markdown",
      "metadata": {
        "id": "KtaXrHZbEkoS"
      },
      "source": [
        "I have verified that the specified \"Yes/No\" fields exhibit consistent values, containing only 'Yes' and 'No'. This suggests that the data in these columns adheres to the expected format, which is important for maintaining data accuracy and facilitating analysis."
      ]
    },
    {
      "cell_type": "code",
      "execution_count": null,
      "metadata": {
        "id": "MlHevGbXEkoS",
        "outputId": "2765a37e-a2cd-42d8-cd0c-b3734cd42748"
      },
      "outputs": [
        {
          "name": "stdout",
          "output_type": "stream",
          "text": [
            "Unique values in 'Breakdown_or_Running_Late' column:\n",
            "==============================\n",
            "['Running Late' 'Breakdown']\n",
            "\n",
            "\n",
            "Unique values in 'School_Age_or_PreK' column:\n",
            "==============================\n",
            "['School-Age' 'Pre-K']\n",
            "\n",
            "\n",
            "Unique values in 'School_Year' column:\n",
            "==============================\n",
            "['2015-2016' '2017-2018' '2018-2019' '2016-2017' '2019-2020']\n",
            "\n",
            "\n",
            "Unique values in 'Reason' column:\n",
            "==============================\n",
            "['Heavy Traffic' 'Flat Tire' 'Other' 'Won`t Start' 'Mechanical Problem'\n",
            " 'Problem Run' 'Accident' 'Late return from Field Trip'\n",
            " 'Delayed by School' 'Weather Conditions' nan]\n",
            "\n",
            "\n",
            "Unique values in 'Run_Type' column:\n",
            "==============================\n",
            "['Special Ed AM Run' 'Pre-K/EI' 'General Ed AM Run'\n",
            " 'General Ed Field Trip' 'Special Ed PM Run' 'General Ed PM Run'\n",
            " 'Project Read PM Run' 'Special Ed Field Trip' 'Project Read AM Run'\n",
            " 'Project Read Field Trip' nan]\n",
            "\n",
            "\n",
            "Unique values in 'Boro' column:\n",
            "==============================\n",
            "['New Jersey' 'Manhattan' 'Bronx' 'Westchester' 'Brooklyn'\n",
            " 'Rockland County' 'Nassau County' nan 'Queens' 'Staten Island'\n",
            " 'Connecticut' 'All Boroughs']\n",
            "\n",
            "\n"
          ]
        }
      ],
      "source": [
        "# Define a function to check unique values in a column\n",
        "def check_unique_values(dataframe, column_name):\n",
        "    unique_values = dataframe[column_name].unique()\n",
        "    return unique_values\n",
        "\n",
        "# List of columns to check unique values\n",
        "columns_to_check = [\n",
        "    'Breakdown_or_Running_Late',\n",
        "    'School_Age_or_PreK',\n",
        "    'School_Year',\n",
        "    'Reason',\n",
        "    'Run_Type',\n",
        "    'Boro'\n",
        "]\n",
        "\n",
        "# Check unique values in each column\n",
        "for column in columns_to_check:\n",
        "    unique_values = check_unique_values(data, column)\n",
        "    print(f\"Unique values in '{column}' column:\")\n",
        "    print(\"==============================\")\n",
        "    print(unique_values)\n",
        "    print(\"\\n\")"
      ]
    },
    {
      "cell_type": "markdown",
      "metadata": {
        "id": "Rjt9dnk2EkoS"
      },
      "source": [
        "## Overall Data Cleaning Observations\n",
        "\n",
        "### Missing Values\n",
        "\n",
        "Our analysis reveals a significant number of missing values in the \"How_Long_Delayed\" field. This is a crucial variable for our analysis, and addressing these missing values appropriately will be essential.\n",
        "\n",
        "Furthermore, the \"Incident_Number\" field contains an exceptionally large number of missing values. Although these gaps cannot be filled without additional information, their absence does not impact our current analysis.\n",
        "\n",
        "### Error in Values\n",
        "\n",
        "We've identified inconsistencies in the \"How_Long_Delayed\" field. It contains string values like \"MINS\" or \"mins,\" along with a range of numerical values. For our analysis, we need to transform these into a consistent single integer format.\n",
        "\n",
        "### Error in Datatypes\n",
        "\n",
        "Currently, the \"How_Long_Delayed\" field is stored as a string datatype. To facilitate analysis, we'll need to convert it to an integer datatype.\n",
        "\n",
        "### Error in Field Names\n",
        "\n",
        "We've noted that the column name \"Boro\" should be refined for clarity. To achieve this, we recommend renaming it to \"Borough.\"\n",
        "\n",
        "These observations serve as valuable insights as we embark on data cleaning and transformation tasks."
      ]
    },
    {
      "cell_type": "markdown",
      "metadata": {
        "id": "VOtW6ZOVEkoS"
      },
      "source": [
        "## Next Steps: Data Cleaning steps"
      ]
    },
    {
      "cell_type": "markdown",
      "metadata": {
        "id": "wntGZRDDEkoT"
      },
      "source": [
        "### Dealing with Missing Values"
      ]
    },
    {
      "cell_type": "code",
      "execution_count": null,
      "metadata": {
        "id": "0EL5wtb6EkoU",
        "outputId": "c83fca01-6047-40af-85be-d4ed33b7f8c8"
      },
      "outputs": [
        {
          "data": {
            "image/png": "[encoded data removed]",
            "text/plain": [
              "<Figure size 640x480 with 2 Axes>"
            ]
          },
          "metadata": {},
          "output_type": "display_data"
        }
      ],
      "source": [
        "# Create a heatmap to visualize missing data distribution\n",
        "sns.heatmap(data.isnull())  # Create the heatmap\n",
        "plt.figsize=(6,5) # Set the figure size\n",
        "plt.title('Distribution of Missing Data by Variable')  # Set the title\n",
        "plt.tight_layout()  # Adjust layout for better spacing"
      ]
    },
    {
      "cell_type": "markdown",
      "metadata": {
        "id": "3V5l72GmEkoU"
      },
      "source": [
        "We drop the Incident Number column because of the severity of the misssing values"
      ]
    },
    {
      "cell_type": "code",
      "execution_count": null,
      "metadata": {
        "id": "WQsvUFQZEkoU",
        "outputId": "b9df6945-6634-4c34-ae69-6bce6cea12bc"
      },
      "outputs": [
        {
          "name": "stdout",
          "output_type": "stream",
          "text": [
            "DataFrame Information after Dropping 'Incident_Number' Column:\n",
            "===========================================================\n",
            "<class 'pandas.core.frame.DataFrame'>\n",
            "RangeIndex: 281110 entries, 0 to 281109\n",
            "Data columns (total 20 columns):\n",
            " #   Column                           Non-Null Count   Dtype \n",
            "---  ------                           --------------   ----- \n",
            " 0   School_Year                      281110 non-null  object\n",
            " 1   Busbreakdown_ID                  281110 non-null  int64 \n",
            " 2   Run_Type                         281107 non-null  object\n",
            " 3   Bus_No                           281101 non-null  object\n",
            " 4   Route_Number                     281103 non-null  object\n",
            " 5   Reason                           281108 non-null  object\n",
            " 6   Schools_Serviced                 281103 non-null  object\n",
            " 7   Occurred_On                      281110 non-null  object\n",
            " 8   Created_On                       281110 non-null  object\n",
            " 9   Boro                             267649 non-null  object\n",
            " 10  Bus_Company_Name                 281110 non-null  object\n",
            " 11  How_Long_Delayed                 245502 non-null  object\n",
            " 12  Number_Of_Students_On_The_Bus    281110 non-null  int64 \n",
            " 13  Has_Contractor_Notified_Schools  281110 non-null  object\n",
            " 14  Has_Contractor_Notified_Parents  281110 non-null  object\n",
            " 15  Have_You_Alerted_OPT             281110 non-null  object\n",
            " 16  Informed_On                      281110 non-null  object\n",
            " 17  Last_Updated_On                  281110 non-null  object\n",
            " 18  Breakdown_or_Running_Late        281110 non-null  object\n",
            " 19  School_Age_or_PreK               281110 non-null  object\n",
            "dtypes: int64(2), object(18)\n",
            "memory usage: 42.9+ MB\n"
          ]
        }
      ],
      "source": [
        "# Drop the 'Incident_Number' column\n",
        "data = data.drop(['Incident_Number'], axis=1)\n",
        "# The 'axis=1' parameter indicates  dropping a column\n",
        "\n",
        "# Display information about the DataFrame after dropping the column\n",
        "print(\"DataFrame Information after Dropping 'Incident_Number' Column:\")\n",
        "print(\"===========================================================\")\n",
        "data.info()"
      ]
    },
    {
      "cell_type": "markdown",
      "metadata": {
        "id": "NvjPCWmoEkoV"
      },
      "source": [
        "Let's deal with the missing values in the the column **How_Long_Delayed**"
      ]
    },
    {
      "cell_type": "code",
      "execution_count": null,
      "metadata": {
        "id": "EdY-dlKmEkoV",
        "outputId": "3848cefa-0691-4461-fc2c-a6277a182e40"
      },
      "outputs": [
        {
          "name": "stdout",
          "output_type": "stream",
          "text": [
            "Head of the Cleaned DataFrame with 'Delay' Column:\n",
            "===============================================\n"
          ]
        },
        {
          "data": {
            "text/html": [
              "<div>\n",
              "<style scoped>\n",
              "    .dataframe tbody tr th:only-of-type {\n",
              "        vertical-align: middle;\n",
              "    }\n",
              "\n",
              "    .dataframe tbody tr th {\n",
              "        vertical-align: top;\n",
              "    }\n",
              "\n",
              "    .dataframe thead th {\n",
              "        text-align: right;\n",
              "    }\n",
              "</style>\n",
              "<table border=\"1\" class=\"dataframe\">\n",
              "  <thead>\n",
              "    <tr style=\"text-align: right;\">\n",
              "      <th></th>\n",
              "      <th>School_Year</th>\n",
              "      <th>Busbreakdown_ID</th>\n",
              "      <th>Run_Type</th>\n",
              "      <th>Bus_No</th>\n",
              "      <th>Route_Number</th>\n",
              "      <th>Reason</th>\n",
              "      <th>Schools_Serviced</th>\n",
              "      <th>Occurred_On</th>\n",
              "      <th>Created_On</th>\n",
              "      <th>Boro</th>\n",
              "      <th>...</th>\n",
              "      <th>How_Long_Delayed</th>\n",
              "      <th>Number_Of_Students_On_The_Bus</th>\n",
              "      <th>Has_Contractor_Notified_Schools</th>\n",
              "      <th>Has_Contractor_Notified_Parents</th>\n",
              "      <th>Have_You_Alerted_OPT</th>\n",
              "      <th>Informed_On</th>\n",
              "      <th>Last_Updated_On</th>\n",
              "      <th>Breakdown_or_Running_Late</th>\n",
              "      <th>School_Age_or_PreK</th>\n",
              "      <th>Delay</th>\n",
              "    </tr>\n",
              "  </thead>\n",
              "  <tbody>\n",
              "    <tr>\n",
              "      <th>0</th>\n",
              "      <td>2015-2016</td>\n",
              "      <td>1227538</td>\n",
              "      <td>Special Ed AM Run</td>\n",
              "      <td>2621</td>\n",
              "      <td>J711</td>\n",
              "      <td>Heavy Traffic</td>\n",
              "      <td>75003</td>\n",
              "      <td>11/05/2015 08:10:00 AM</td>\n",
              "      <td>11/05/2015 08:12:00 AM</td>\n",
              "      <td>New Jersey</td>\n",
              "      <td>...</td>\n",
              "      <td>NaN</td>\n",
              "      <td>11</td>\n",
              "      <td>Yes</td>\n",
              "      <td>No</td>\n",
              "      <td>Yes</td>\n",
              "      <td>11/05/2015 08:12:00 AM</td>\n",
              "      <td>11/05/2015 08:12:14 AM</td>\n",
              "      <td>Running Late</td>\n",
              "      <td>School-Age</td>\n",
              "      <td>NaN</td>\n",
              "    </tr>\n",
              "    <tr>\n",
              "      <th>1</th>\n",
              "      <td>2015-2016</td>\n",
              "      <td>1227539</td>\n",
              "      <td>Special Ed AM Run</td>\n",
              "      <td>1260</td>\n",
              "      <td>M351</td>\n",
              "      <td>Heavy Traffic</td>\n",
              "      <td>06716</td>\n",
              "      <td>11/05/2015 08:10:00 AM</td>\n",
              "      <td>11/05/2015 08:12:00 AM</td>\n",
              "      <td>Manhattan</td>\n",
              "      <td>...</td>\n",
              "      <td>20MNS</td>\n",
              "      <td>2</td>\n",
              "      <td>Yes</td>\n",
              "      <td>Yes</td>\n",
              "      <td>No</td>\n",
              "      <td>11/05/2015 08:12:00 AM</td>\n",
              "      <td>11/05/2015 08:13:34 AM</td>\n",
              "      <td>Running Late</td>\n",
              "      <td>School-Age</td>\n",
              "      <td>20</td>\n",
              "    </tr>\n",
              "    <tr>\n",
              "      <th>2</th>\n",
              "      <td>2015-2016</td>\n",
              "      <td>1227540</td>\n",
              "      <td>Pre-K/EI</td>\n",
              "      <td>418</td>\n",
              "      <td>3</td>\n",
              "      <td>Heavy Traffic</td>\n",
              "      <td>C445</td>\n",
              "      <td>11/05/2015 08:09:00 AM</td>\n",
              "      <td>11/05/2015 08:13:00 AM</td>\n",
              "      <td>Bronx</td>\n",
              "      <td>...</td>\n",
              "      <td>15MIN</td>\n",
              "      <td>8</td>\n",
              "      <td>Yes</td>\n",
              "      <td>Yes</td>\n",
              "      <td>Yes</td>\n",
              "      <td>11/05/2015 08:13:00 AM</td>\n",
              "      <td>11/05/2015 08:13:22 AM</td>\n",
              "      <td>Running Late</td>\n",
              "      <td>Pre-K</td>\n",
              "      <td>15</td>\n",
              "    </tr>\n",
              "    <tr>\n",
              "      <th>3</th>\n",
              "      <td>2015-2016</td>\n",
              "      <td>1227541</td>\n",
              "      <td>Special Ed AM Run</td>\n",
              "      <td>4522</td>\n",
              "      <td>M271</td>\n",
              "      <td>Heavy Traffic</td>\n",
              "      <td>02699</td>\n",
              "      <td>11/05/2015 08:12:00 AM</td>\n",
              "      <td>11/05/2015 08:14:00 AM</td>\n",
              "      <td>Manhattan</td>\n",
              "      <td>...</td>\n",
              "      <td>15 MIN</td>\n",
              "      <td>6</td>\n",
              "      <td>No</td>\n",
              "      <td>No</td>\n",
              "      <td>No</td>\n",
              "      <td>11/05/2015 08:14:00 AM</td>\n",
              "      <td>11/05/2015 08:14:04 AM</td>\n",
              "      <td>Running Late</td>\n",
              "      <td>School-Age</td>\n",
              "      <td>15</td>\n",
              "    </tr>\n",
              "    <tr>\n",
              "      <th>4</th>\n",
              "      <td>2015-2016</td>\n",
              "      <td>1227542</td>\n",
              "      <td>Special Ed AM Run</td>\n",
              "      <td>3124</td>\n",
              "      <td>M373</td>\n",
              "      <td>Heavy Traffic</td>\n",
              "      <td>02116</td>\n",
              "      <td>11/05/2015 08:13:00 AM</td>\n",
              "      <td>11/05/2015 08:14:00 AM</td>\n",
              "      <td>Manhattan</td>\n",
              "      <td>...</td>\n",
              "      <td>NaN</td>\n",
              "      <td>6</td>\n",
              "      <td>No</td>\n",
              "      <td>No</td>\n",
              "      <td>No</td>\n",
              "      <td>11/05/2015 08:14:00 AM</td>\n",
              "      <td>11/05/2015 08:14:08 AM</td>\n",
              "      <td>Running Late</td>\n",
              "      <td>School-Age</td>\n",
              "      <td>NaN</td>\n",
              "    </tr>\n",
              "  </tbody>\n",
              "</table>\n",
              "<p>5 rows × 21 columns</p>\n",
              "</div>"
            ],
            "text/plain": [
              "  School_Year  Busbreakdown_ID           Run_Type Bus_No Route_Number  \\\n",
              "0   2015-2016          1227538  Special Ed AM Run   2621         J711   \n",
              "1   2015-2016          1227539  Special Ed AM Run   1260         M351   \n",
              "2   2015-2016          1227540           Pre-K/EI    418            3   \n",
              "3   2015-2016          1227541  Special Ed AM Run   4522         M271   \n",
              "4   2015-2016          1227542  Special Ed AM Run   3124         M373   \n",
              "\n",
              "          Reason Schools_Serviced             Occurred_On  \\\n",
              "0  Heavy Traffic            75003  11/05/2015 08:10:00 AM   \n",
              "1  Heavy Traffic            06716  11/05/2015 08:10:00 AM   \n",
              "2  Heavy Traffic             C445  11/05/2015 08:09:00 AM   \n",
              "3  Heavy Traffic            02699  11/05/2015 08:12:00 AM   \n",
              "4  Heavy Traffic            02116  11/05/2015 08:13:00 AM   \n",
              "\n",
              "               Created_On        Boro  ... How_Long_Delayed  \\\n",
              "0  11/05/2015 08:12:00 AM  New Jersey  ...              NaN   \n",
              "1  11/05/2015 08:12:00 AM   Manhattan  ...            20MNS   \n",
              "2  11/05/2015 08:13:00 AM       Bronx  ...            15MIN   \n",
              "3  11/05/2015 08:14:00 AM   Manhattan  ...           15 MIN   \n",
              "4  11/05/2015 08:14:00 AM   Manhattan  ...              NaN   \n",
              "\n",
              "  Number_Of_Students_On_The_Bus  Has_Contractor_Notified_Schools  \\\n",
              "0                            11                              Yes   \n",
              "1                             2                              Yes   \n",
              "2                             8                              Yes   \n",
              "3                             6                               No   \n",
              "4                             6                               No   \n",
              "\n",
              "  Has_Contractor_Notified_Parents Have_You_Alerted_OPT  \\\n",
              "0                              No                  Yes   \n",
              "1                             Yes                   No   \n",
              "2                             Yes                  Yes   \n",
              "3                              No                   No   \n",
              "4                              No                   No   \n",
              "\n",
              "              Informed_On         Last_Updated_On Breakdown_or_Running_Late  \\\n",
              "0  11/05/2015 08:12:00 AM  11/05/2015 08:12:14 AM              Running Late   \n",
              "1  11/05/2015 08:12:00 AM  11/05/2015 08:13:34 AM              Running Late   \n",
              "2  11/05/2015 08:13:00 AM  11/05/2015 08:13:22 AM              Running Late   \n",
              "3  11/05/2015 08:14:00 AM  11/05/2015 08:14:04 AM              Running Late   \n",
              "4  11/05/2015 08:14:00 AM  11/05/2015 08:14:08 AM              Running Late   \n",
              "\n",
              "  School_Age_or_PreK Delay  \n",
              "0         School-Age   NaN  \n",
              "1         School-Age    20  \n",
              "2              Pre-K    15  \n",
              "3         School-Age    15  \n",
              "4         School-Age   NaN  \n",
              "\n",
              "[5 rows x 21 columns]"
            ]
          },
          "execution_count": 19,
          "metadata": {},
          "output_type": "execute_result"
        }
      ],
      "source": [
        "# Extract digits from the 'How_Long_Delayed' column and create a new 'Delay' column\n",
        "data['Delay'] = data['How_Long_Delayed'].str.extract('(\\d+)')\n",
        "# The str.extract() function with '(\\d+)' captures one or more digits from the column values\n",
        "\n",
        "# Display the first few rows of the cleaned DataFrame to check if the regex worked\n",
        "print(\"Head of the Cleaned DataFrame with 'Delay' Column:\")\n",
        "print(\"===============================================\")\n",
        "data.head()"
      ]
    },
    {
      "cell_type": "code",
      "execution_count": null,
      "metadata": {
        "id": "U7vxKY1MEkoV"
      },
      "outputs": [],
      "source": [
        "data['Delay'] =  pd.to_numeric(data['Delay']) #Convert string to integer"
      ]
    },
    {
      "cell_type": "code",
      "execution_count": null,
      "metadata": {
        "id": "wzDHJJ9aEkoV",
        "outputId": "86fcb0db-7ab3-49e1-b177-4d816f1a1bfb"
      },
      "outputs": [
        {
          "name": "stdout",
          "output_type": "stream",
          "text": [
            "Missing Values:\n",
            "===============\n",
            "School_Year                            0\n",
            "Busbreakdown_ID                        0\n",
            "Run_Type                               3\n",
            "Bus_No                                 9\n",
            "Route_Number                           7\n",
            "Reason                                 2\n",
            "Schools_Serviced                       7\n",
            "Occurred_On                            0\n",
            "Created_On                             0\n",
            "Boro                               13461\n",
            "Bus_Company_Name                       0\n",
            "How_Long_Delayed                   35608\n",
            "Number_Of_Students_On_The_Bus          0\n",
            "Has_Contractor_Notified_Schools        0\n",
            "Has_Contractor_Notified_Parents        0\n",
            "Have_You_Alerted_OPT                   0\n",
            "Informed_On                            0\n",
            "Last_Updated_On                        0\n",
            "Breakdown_or_Running_Late              0\n",
            "School_Age_or_PreK                     0\n",
            "Delay                              36108\n",
            "dtype: int64\n"
          ]
        }
      ],
      "source": [
        "# Check for missing values in the dataset\n",
        "print(\"Missing Values:\")\n",
        "print(\"===============\")\n",
        "missing_values = data.isnull().sum()\n",
        "print(missing_values)"
      ]
    },
    {
      "cell_type": "code",
      "execution_count": null,
      "metadata": {
        "id": "VFGxY-neEkoW"
      },
      "outputs": [],
      "source": [
        "# Drop the original 'How_Long_Delayed' column\n",
        "data = data.drop(['How_Long_Delayed'], axis=1)\n",
        "# The axis=1 parameter indicates that you're dropping a colum"
      ]
    },
    {
      "cell_type": "code",
      "execution_count": null,
      "metadata": {
        "id": "jT2qqwvTEkoW",
        "outputId": "394152da-44b9-4ce1-988c-75c4704f29c4"
      },
      "outputs": [
        {
          "name": "stdout",
          "output_type": "stream",
          "text": [
            "Missing Values:\n",
            "===============\n",
            "School_Year                            0\n",
            "Busbreakdown_ID                        0\n",
            "Run_Type                               3\n",
            "Bus_No                                 9\n",
            "Route_Number                           7\n",
            "Reason                                 2\n",
            "Schools_Serviced                       7\n",
            "Occurred_On                            0\n",
            "Created_On                             0\n",
            "Boro                               13461\n",
            "Bus_Company_Name                       0\n",
            "Number_Of_Students_On_The_Bus          0\n",
            "Has_Contractor_Notified_Schools        0\n",
            "Has_Contractor_Notified_Parents        0\n",
            "Have_You_Alerted_OPT                   0\n",
            "Informed_On                            0\n",
            "Last_Updated_On                        0\n",
            "Breakdown_or_Running_Late              0\n",
            "School_Age_or_PreK                     0\n",
            "Delay                                  0\n",
            "dtype: int64\n"
          ]
        }
      ],
      "source": [
        "\n",
        "# Calculate the mean of non-null values in \"How_Long_Delayed\" column\n",
        "mean_delay = data['Delay'].mean()\n",
        "\n",
        "# Replace missing values with the calculated mean\n",
        "data['Delay'].fillna(mean_delay, inplace=True)\n",
        "\n",
        "print(\"Missing Values:\")\n",
        "print(\"===============\")\n",
        "missing_values = data.isnull().sum()\n",
        "print(missing_values)"
      ]
    },
    {
      "cell_type": "code",
      "execution_count": null,
      "metadata": {
        "id": "KdTKxxx-EkoW"
      },
      "outputs": [],
      "source": [
        "# Drop rows with any remaining null values\n",
        "data = data.dropna()"
      ]
    },
    {
      "cell_type": "code",
      "execution_count": null,
      "metadata": {
        "id": "7HoLjODvEkoW"
      },
      "outputs": [],
      "source": [
        "# Rename the 'Boro' column to 'Borough'\n",
        "data.rename(columns={'Boro': 'Borough'}, inplace=True)"
      ]
    },
    {
      "cell_type": "code",
      "execution_count": null,
      "metadata": {
        "id": "BZ4dy_PcEkoX",
        "outputId": "5dee0a3f-f510-4f15-e6ce-7325e6f28954"
      },
      "outputs": [
        {
          "name": "stdout",
          "output_type": "stream",
          "text": [
            "Missing Values:\n",
            "===============\n",
            "School_Year                        0\n",
            "Busbreakdown_ID                    0\n",
            "Run_Type                           0\n",
            "Bus_No                             0\n",
            "Route_Number                       0\n",
            "Reason                             0\n",
            "Schools_Serviced                   0\n",
            "Occurred_On                        0\n",
            "Created_On                         0\n",
            "Borough                            0\n",
            "Bus_Company_Name                   0\n",
            "Number_Of_Students_On_The_Bus      0\n",
            "Has_Contractor_Notified_Schools    0\n",
            "Has_Contractor_Notified_Parents    0\n",
            "Have_You_Alerted_OPT               0\n",
            "Informed_On                        0\n",
            "Last_Updated_On                    0\n",
            "Breakdown_or_Running_Late          0\n",
            "School_Age_or_PreK                 0\n",
            "Delay                              0\n",
            "dtype: int64\n"
          ]
        }
      ],
      "source": [
        "print(\"Missing Values:\")\n",
        "print(\"===============\")\n",
        "missing_values = data.isnull().sum()\n",
        "print(missing_values)"
      ]
    },
    {
      "cell_type": "code",
      "execution_count": null,
      "metadata": {
        "id": "65z6wPltEkoX"
      },
      "outputs": [],
      "source": [
        "# Remove the lowest value from the 'Delay' column\n",
        "min_delay = data['Delay'].min()\n",
        "data = data[data['Delay'] != min_delay]\n",
        "# Convert \"Delay\" column to integer data type\n",
        "data['Delay'] = data['Delay'].astype(int)"
      ]
    },
    {
      "cell_type": "code",
      "execution_count": null,
      "metadata": {
        "id": "jsa1RvHQEkoX",
        "outputId": "ba22489d-a139-4bfd-ceb9-97cffd97e8e9"
      },
      "outputs": [
        {
          "name": "stdout",
          "output_type": "stream",
          "text": [
            "DataFrame with All Values Converted to Lower Case:\n",
            "==================================================\n"
          ]
        },
        {
          "data": {
            "text/html": [
              "<div>\n",
              "<style scoped>\n",
              "    .dataframe tbody tr th:only-of-type {\n",
              "        vertical-align: middle;\n",
              "    }\n",
              "\n",
              "    .dataframe tbody tr th {\n",
              "        vertical-align: top;\n",
              "    }\n",
              "\n",
              "    .dataframe thead th {\n",
              "        text-align: right;\n",
              "    }\n",
              "</style>\n",
              "<table border=\"1\" class=\"dataframe\">\n",
              "  <thead>\n",
              "    <tr style=\"text-align: right;\">\n",
              "      <th></th>\n",
              "      <th>School_Year</th>\n",
              "      <th>Busbreakdown_ID</th>\n",
              "      <th>Run_Type</th>\n",
              "      <th>Bus_No</th>\n",
              "      <th>Route_Number</th>\n",
              "      <th>Reason</th>\n",
              "      <th>Schools_Serviced</th>\n",
              "      <th>Occurred_On</th>\n",
              "      <th>Created_On</th>\n",
              "      <th>Borough</th>\n",
              "      <th>Bus_Company_Name</th>\n",
              "      <th>Number_Of_Students_On_The_Bus</th>\n",
              "      <th>Has_Contractor_Notified_Schools</th>\n",
              "      <th>Has_Contractor_Notified_Parents</th>\n",
              "      <th>Have_You_Alerted_OPT</th>\n",
              "      <th>Informed_On</th>\n",
              "      <th>Last_Updated_On</th>\n",
              "      <th>Breakdown_or_Running_Late</th>\n",
              "      <th>School_Age_or_PreK</th>\n",
              "      <th>Delay</th>\n",
              "    </tr>\n",
              "  </thead>\n",
              "  <tbody>\n",
              "    <tr>\n",
              "      <th>0</th>\n",
              "      <td>2015-2016</td>\n",
              "      <td>1227538</td>\n",
              "      <td>special ed am run</td>\n",
              "      <td>2621</td>\n",
              "      <td>j711</td>\n",
              "      <td>heavy traffic</td>\n",
              "      <td>75003</td>\n",
              "      <td>11/05/2015 08:10:00 am</td>\n",
              "      <td>11/05/2015 08:12:00 am</td>\n",
              "      <td>new jersey</td>\n",
              "      <td>reliant trans, inc. (b232</td>\n",
              "      <td>11</td>\n",
              "      <td>yes</td>\n",
              "      <td>no</td>\n",
              "      <td>yes</td>\n",
              "      <td>11/05/2015 08:12:00 am</td>\n",
              "      <td>11/05/2015 08:12:14 am</td>\n",
              "      <td>running late</td>\n",
              "      <td>school-age</td>\n",
              "      <td>28</td>\n",
              "    </tr>\n",
              "    <tr>\n",
              "      <th>1</th>\n",
              "      <td>2015-2016</td>\n",
              "      <td>1227539</td>\n",
              "      <td>special ed am run</td>\n",
              "      <td>1260</td>\n",
              "      <td>m351</td>\n",
              "      <td>heavy traffic</td>\n",
              "      <td>06716</td>\n",
              "      <td>11/05/2015 08:10:00 am</td>\n",
              "      <td>11/05/2015 08:12:00 am</td>\n",
              "      <td>manhattan</td>\n",
              "      <td>hoyt transportation corp.</td>\n",
              "      <td>2</td>\n",
              "      <td>yes</td>\n",
              "      <td>yes</td>\n",
              "      <td>no</td>\n",
              "      <td>11/05/2015 08:12:00 am</td>\n",
              "      <td>11/05/2015 08:13:34 am</td>\n",
              "      <td>running late</td>\n",
              "      <td>school-age</td>\n",
              "      <td>20</td>\n",
              "    </tr>\n",
              "    <tr>\n",
              "      <th>2</th>\n",
              "      <td>2015-2016</td>\n",
              "      <td>1227540</td>\n",
              "      <td>pre-k/ei</td>\n",
              "      <td>418</td>\n",
              "      <td>3</td>\n",
              "      <td>heavy traffic</td>\n",
              "      <td>c445</td>\n",
              "      <td>11/05/2015 08:09:00 am</td>\n",
              "      <td>11/05/2015 08:13:00 am</td>\n",
              "      <td>bronx</td>\n",
              "      <td>g.v.c., ltd.</td>\n",
              "      <td>8</td>\n",
              "      <td>yes</td>\n",
              "      <td>yes</td>\n",
              "      <td>yes</td>\n",
              "      <td>11/05/2015 08:13:00 am</td>\n",
              "      <td>11/05/2015 08:13:22 am</td>\n",
              "      <td>running late</td>\n",
              "      <td>pre-k</td>\n",
              "      <td>15</td>\n",
              "    </tr>\n",
              "    <tr>\n",
              "      <th>3</th>\n",
              "      <td>2015-2016</td>\n",
              "      <td>1227541</td>\n",
              "      <td>special ed am run</td>\n",
              "      <td>4522</td>\n",
              "      <td>m271</td>\n",
              "      <td>heavy traffic</td>\n",
              "      <td>02699</td>\n",
              "      <td>11/05/2015 08:12:00 am</td>\n",
              "      <td>11/05/2015 08:14:00 am</td>\n",
              "      <td>manhattan</td>\n",
              "      <td>reliant trans, inc. (b232</td>\n",
              "      <td>6</td>\n",
              "      <td>no</td>\n",
              "      <td>no</td>\n",
              "      <td>no</td>\n",
              "      <td>11/05/2015 08:14:00 am</td>\n",
              "      <td>11/05/2015 08:14:04 am</td>\n",
              "      <td>running late</td>\n",
              "      <td>school-age</td>\n",
              "      <td>15</td>\n",
              "    </tr>\n",
              "    <tr>\n",
              "      <th>4</th>\n",
              "      <td>2015-2016</td>\n",
              "      <td>1227542</td>\n",
              "      <td>special ed am run</td>\n",
              "      <td>3124</td>\n",
              "      <td>m373</td>\n",
              "      <td>heavy traffic</td>\n",
              "      <td>02116</td>\n",
              "      <td>11/05/2015 08:13:00 am</td>\n",
              "      <td>11/05/2015 08:14:00 am</td>\n",
              "      <td>manhattan</td>\n",
              "      <td>reliant trans, inc. (b232</td>\n",
              "      <td>6</td>\n",
              "      <td>no</td>\n",
              "      <td>no</td>\n",
              "      <td>no</td>\n",
              "      <td>11/05/2015 08:14:00 am</td>\n",
              "      <td>11/05/2015 08:14:08 am</td>\n",
              "      <td>running late</td>\n",
              "      <td>school-age</td>\n",
              "      <td>28</td>\n",
              "    </tr>\n",
              "  </tbody>\n",
              "</table>\n",
              "</div>"
            ],
            "text/plain": [
              "  School_Year  Busbreakdown_ID           Run_Type Bus_No Route_Number  \\\n",
              "0   2015-2016          1227538  special ed am run   2621         j711   \n",
              "1   2015-2016          1227539  special ed am run   1260         m351   \n",
              "2   2015-2016          1227540           pre-k/ei    418            3   \n",
              "3   2015-2016          1227541  special ed am run   4522         m271   \n",
              "4   2015-2016          1227542  special ed am run   3124         m373   \n",
              "\n",
              "          Reason Schools_Serviced             Occurred_On  \\\n",
              "0  heavy traffic            75003  11/05/2015 08:10:00 am   \n",
              "1  heavy traffic            06716  11/05/2015 08:10:00 am   \n",
              "2  heavy traffic             c445  11/05/2015 08:09:00 am   \n",
              "3  heavy traffic            02699  11/05/2015 08:12:00 am   \n",
              "4  heavy traffic            02116  11/05/2015 08:13:00 am   \n",
              "\n",
              "               Created_On     Borough           Bus_Company_Name  \\\n",
              "0  11/05/2015 08:12:00 am  new jersey  reliant trans, inc. (b232   \n",
              "1  11/05/2015 08:12:00 am   manhattan  hoyt transportation corp.   \n",
              "2  11/05/2015 08:13:00 am       bronx               g.v.c., ltd.   \n",
              "3  11/05/2015 08:14:00 am   manhattan  reliant trans, inc. (b232   \n",
              "4  11/05/2015 08:14:00 am   manhattan  reliant trans, inc. (b232   \n",
              "\n",
              "   Number_Of_Students_On_The_Bus Has_Contractor_Notified_Schools  \\\n",
              "0                             11                             yes   \n",
              "1                              2                             yes   \n",
              "2                              8                             yes   \n",
              "3                              6                              no   \n",
              "4                              6                              no   \n",
              "\n",
              "  Has_Contractor_Notified_Parents Have_You_Alerted_OPT  \\\n",
              "0                              no                  yes   \n",
              "1                             yes                   no   \n",
              "2                             yes                  yes   \n",
              "3                              no                   no   \n",
              "4                              no                   no   \n",
              "\n",
              "              Informed_On         Last_Updated_On Breakdown_or_Running_Late  \\\n",
              "0  11/05/2015 08:12:00 am  11/05/2015 08:12:14 am              running late   \n",
              "1  11/05/2015 08:12:00 am  11/05/2015 08:13:34 am              running late   \n",
              "2  11/05/2015 08:13:00 am  11/05/2015 08:13:22 am              running late   \n",
              "3  11/05/2015 08:14:00 am  11/05/2015 08:14:04 am              running late   \n",
              "4  11/05/2015 08:14:00 am  11/05/2015 08:14:08 am              running late   \n",
              "\n",
              "  School_Age_or_PreK  Delay  \n",
              "0         school-age     28  \n",
              "1         school-age     20  \n",
              "2              pre-k     15  \n",
              "3         school-age     15  \n",
              "4         school-age     28  "
            ]
          },
          "execution_count": 28,
          "metadata": {},
          "output_type": "execute_result"
        }
      ],
      "source": [
        "# Convert all values in the DataFrame to lower case\n",
        "data = data.apply(lambda x: x.str.lower() if x.dtype == \"object\" else x)\n",
        "\n",
        "# Display the first few rows of the DataFrame with lower case values\n",
        "print(\"DataFrame with All Values Converted to Lower Case:\")\n",
        "print(\"==================================================\")\n",
        "data.head()"
      ]
    },
    {
      "cell_type": "code",
      "execution_count": null,
      "metadata": {
        "id": "fwGA5gPtEkoX"
      },
      "outputs": [],
      "source": [
        "data_clean = data.copy()"
      ]
    },
    {
      "cell_type": "markdown",
      "metadata": {
        "id": "ijZ21TTvEkoY"
      },
      "source": [
        "## Solution Implementation"
      ]
    },
    {
      "cell_type": "markdown",
      "metadata": {
        "id": "DA3KqR7iEkoY"
      },
      "source": [
        "### 1) Which bus companies that had the highest breakdowns?"
      ]
    },
    {
      "cell_type": "code",
      "execution_count": null,
      "metadata": {
        "id": "A2oFi_XiEkoY",
        "outputId": "1accf89f-7972-4d9f-96e6-0573532f60c2"
      },
      "outputs": [
        {
          "name": "stdout",
          "output_type": "stream",
          "text": [
            "Top 10 Bus Companies with the Highest Breakdowns:\n",
            "===============================================\n",
            "Bus_Company_Name\n",
            "g.v.c., ltd.                          18290\n",
            "leesel transportation corp (b2192)    17135\n",
            "pioneer transportation co             12015\n",
            "reliant trans, inc. (b232             11830\n",
            "leesel transp corp (b2192             11552\n",
            "boro transit, inc.                    10710\n",
            "little richie bus service             10657\n",
            "new dawn transit, llc (b2             10395\n",
            "leesel transp corp (b2192)             9560\n",
            "pioneer transportation corp            8197\n",
            "dtype: int64\n"
          ]
        }
      ],
      "source": [
        "# Group the data by bus company and count the breakdowns\n",
        "breakdowns = data_clean.groupby(['Bus_Company_Name']).size()\n",
        "\n",
        "# Find the top 10 bus companies with the highest breakdowns\n",
        "top_bus_companies = breakdowns.nlargest(10)\n",
        "\n",
        "# Display the list of top 10 bus companies and their breakdown counts\n",
        "print(\"Top 10 Bus Companies with the Highest Breakdowns:\")\n",
        "print(\"===============================================\")\n",
        "print(top_bus_companies)"
      ]
    },
    {
      "cell_type": "markdown",
      "metadata": {
        "id": "Kwtt-4I0EkoY"
      },
      "source": [
        "The bus company with the highest breakdowns is \"g.v.c., ltd.\" with a total of 18290 breakdown incidents."
      ]
    },
    {
      "cell_type": "markdown",
      "metadata": {
        "id": "x8IwomMnEkoZ"
      },
      "source": [
        "###  2. What were the top 3 reasons for bus delays?"
      ]
    },
    {
      "cell_type": "code",
      "execution_count": null,
      "metadata": {
        "id": "Bnk3Yn9zEkoZ",
        "outputId": "db4b81ff-be59-4b0a-972e-e3f0d52fbf2b"
      },
      "outputs": [
        {
          "name": "stdout",
          "output_type": "stream",
          "text": [
            "Top 3 Reasons for Bus Delays:\n",
            "=============================\n",
            "               Reason   Delay\n",
            "3       heavy traffic  153307\n",
            "6               other   34864\n",
            "5  mechanical problem   26639\n"
          ]
        }
      ],
      "source": [
        "bus_delay = data_clean.groupby(['Reason']).count()[['Delay']].reset_index()\n",
        "# Sort the bus_delay DataFrame to get the most frequent reasons\n",
        "sorted_reasons = bus_delay.sort_values(by='Delay', ascending=False)\n",
        "\n",
        "# Get the top 3 reasons for bus delays\n",
        "top_3_reasons = sorted_reasons.head(3)\n",
        "\n",
        "# Display the top 3 reasons for bus delays\n",
        "print(\"Top 3 Reasons for Bus Delays:\")\n",
        "print(\"=============================\")\n",
        "print(top_3_reasons)\n"
      ]
    },
    {
      "cell_type": "markdown",
      "metadata": {
        "id": "AjQSbZvqEkoZ"
      },
      "source": [
        "### 3. How many students were in the buses when they broke down?"
      ]
    },
    {
      "cell_type": "code",
      "execution_count": null,
      "metadata": {
        "id": "LyeXkdpHEkoZ"
      },
      "outputs": [],
      "source": [
        "students = data_clean.groupby(['Number_Of_Students_On_The_Bus']).count()[['Busbreakdown_ID']].reset_index()"
      ]
    },
    {
      "cell_type": "code",
      "execution_count": null,
      "metadata": {
        "id": "WorIm8ckEkoa",
        "outputId": "eeba1c61-bf44-4ca5-8565-ede3e82963e3"
      },
      "outputs": [
        {
          "name": "stdout",
          "output_type": "stream",
          "text": [
            "     Number_Of_Students_On_The_Bus  Busbreakdown_ID\n",
            "0                                0           156695\n",
            "1                                1            13557\n",
            "2                                2            14662\n",
            "3                                3            13059\n",
            "4                                4            10894\n",
            "..                             ...              ...\n",
            "192                           6209                1\n",
            "193                           6219                1\n",
            "194                           8547                1\n",
            "195                           9007                1\n",
            "196                           9052                1\n",
            "\n",
            "[197 rows x 2 columns]\n"
          ]
        }
      ],
      "source": [
        "print(students)"
      ]
    },
    {
      "cell_type": "markdown",
      "metadata": {
        "id": "UYkrdpdpEkoa"
      },
      "source": [
        "### 4. Which were most frequent reasons for bus breakdowns?"
      ]
    },
    {
      "cell_type": "code",
      "execution_count": null,
      "metadata": {
        "id": "mOG9wuEjEkoa",
        "outputId": "7aee06c3-cc57-49a0-f9a6-b549196775bb"
      },
      "outputs": [
        {
          "name": "stdout",
          "output_type": "stream",
          "text": [
            "Most Frequent Reasons for Bus Breakdowns:\n",
            "========================================\n",
            "mechanical problem: 14475\n",
            "won`t start: 7501\n",
            "flat tire: 3869\n",
            "other: 3428\n",
            "heavy traffic: 392\n",
            "accident: 192\n",
            "weather conditions: 81\n",
            "late return from field trip: 35\n",
            "problem run: 25\n",
            "delayed by school: 7\n"
          ]
        }
      ],
      "source": [
        "breakdown_reasons = data_clean[data_clean.Breakdown_or_Running_Late == 'breakdown'].groupby(['Reason']).count()\n",
        "# Sort the breakdown_reasons DataFrame to get the most frequent reasons for breakdowns\n",
        "sorted_breakdown_reasons = breakdown_reasons['Busbreakdown_ID'].sort_values(ascending=False)\n",
        "\n",
        "# Display the most frequent reasons for bus breakdowns along with their counts\n",
        "print(\"Most Frequent Reasons for Bus Breakdowns:\")\n",
        "print(\"========================================\")\n",
        "for reason in sorted_breakdown_reasons.index:\n",
        "    count = sorted_breakdown_reasons[reason]\n",
        "    print(f\"{reason}: {count}\")"
      ]
    },
    {
      "cell_type": "markdown",
      "metadata": {
        "id": "Skhr50PjEkoa"
      },
      "source": [
        "### 5. What were the most frequent reasons for the bus running late?"
      ]
    },
    {
      "cell_type": "code",
      "execution_count": null,
      "metadata": {
        "id": "dQYph_q2Ekoa",
        "outputId": "fdc76c42-a0f9-4baf-de24-b2558f0fab62"
      },
      "outputs": [
        {
          "name": "stdout",
          "output_type": "stream",
          "text": [
            "                        Reason   Delay\n",
            "3                heavy traffic  153307\n",
            "6                        other   34864\n",
            "5           mechanical problem   26639\n",
            "9                  won`t start   11671\n",
            "2                    flat tire    8019\n",
            "8           weather conditions    6309\n",
            "4  late return from field trip    5430\n",
            "7                  problem run    3924\n",
            "0                     accident    2406\n",
            "1            delayed by school    1796\n"
          ]
        }
      ],
      "source": [
        "reasons = data_clean.groupby('Reason')['Delay'].count().reset_index()\n",
        "sorted_reasons = reasons.sort_values(by='Delay', ascending=False)\n",
        "\n",
        "print(sorted_reasons)"
      ]
    },
    {
      "cell_type": "markdown",
      "metadata": {
        "id": "RpBdQ0olEkob"
      },
      "source": [
        "### 6. What was the average delay time for each reason type?"
      ]
    },
    {
      "cell_type": "code",
      "execution_count": null,
      "metadata": {
        "id": "pCx1LZUhEkob",
        "outputId": "f5e58d78-3551-4220-c920-e4a583ec5f2d"
      },
      "outputs": [
        {
          "name": "stdout",
          "output_type": "stream",
          "text": [
            "                        Reason      Delay\n",
            "4  late return from field trip  65.043646\n",
            "0                     accident  35.503741\n",
            "7                  problem run  31.765291\n",
            "5           mechanical problem  31.509779\n",
            "8           weather conditions  30.586464\n",
            "9                  won`t start  30.154143\n",
            "2                    flat tire  29.763063\n",
            "6                        other  29.738154\n",
            "3                heavy traffic  28.064609\n",
            "1            delayed by school  21.689866\n"
          ]
        }
      ],
      "source": [
        "avg_delay = data_clean.groupby('Reason')['Delay'].mean().reset_index()\n",
        "sorted_avg_delay = avg_delay.sort_values(by='Delay', ascending=False)\n",
        "\n",
        "print(sorted_avg_delay)"
      ]
    },
    {
      "cell_type": "markdown",
      "metadata": {
        "id": "6YFchGQtEkob"
      },
      "source": [
        "## Recommendations Based on Analysis\n",
        "\n",
        "### Top 10 Bus Companies with the Highest Breakdowns:\n",
        "Certain bus companies experience higher breakdown rates. To address this:\n",
        "- Conduct thorough maintenance procedure reviews for these companies.\n",
        "- Implement proactive maintenance schedules and inspections.\n",
        "- Provide additional training to drivers to identify warning signs.\n",
        "\n",
        "### Top 3 Reasons for Bus Delays:\n",
        "Addressing frequent delay reasons can enhance efficiency:\n",
        "- Develop strategies to mitigate heavy traffic impact.\n",
        "- Improve maintenance practices for faster resolution of mechanical problems.\n",
        "- Investigate and address specific causes within the \"other\" category.\n",
        "\n",
        "### Number of Students on the Bus and Breakdowns:\n",
        "Buses with higher student counts experience more breakdowns. To mitigate:\n",
        "- Introduce more rigorous maintenance for high-capacity route buses.\n",
        "- Establish contingency plans to minimize disruptions for students.\n",
        "\n",
        "### Most Frequent Reasons for Bus Breakdowns:\n",
        "Prioritize addressing common breakdown reasons:\n",
        "- Focus on prompt resolution of mechanical problems and won't start issues.\n",
        "- Enhance driver training to identify and report potential issues.\n",
        "\n",
        "### Average Delay Time by Reason:\n",
        "Reducing average delay time can improve efficiency:\n",
        "- Mitigate heavy traffic delays through alternate routes or scheduling optimization.\n",
        "- Improve response times for mechanical problems and other common issues."
      ]
    },
    {
      "cell_type": "markdown",
      "metadata": {
        "id": "KhNBO-OLEkoc"
      },
      "source": [
        "## Follow Up Questions"
      ]
    },
    {
      "cell_type": "markdown",
      "metadata": {
        "id": "RGwKYRenEkoc"
      },
      "source": [
        "### a). Did we have the right data?"
      ]
    },
    {
      "cell_type": "markdown",
      "metadata": {
        "id": "fflxzXsoEkoc"
      },
      "source": [
        "The data had information related to bus breakdowns, delays, reasons, and other relevant factors. The data is suitable for addressing the questions you aimed to answer."
      ]
    },
    {
      "cell_type": "markdown",
      "metadata": {
        "id": "2177WpsBEkoc"
      },
      "source": [
        "### b). Was the Data Enough for the Study?\n",
        "\n",
        "Considering the analysis I conducted, there could be some potential additional data that might provide further insights:\n",
        "\n",
        "- **Geographical Data:** Including geographical data could help in understanding specific traffic patterns, road conditions, and congestion areas, which would be particularly useful for addressing heavy traffic delays.\n",
        "\n",
        "- **Driver Behavior Data:** Having data on driver behavior, such as speed, braking patterns, and adherence to schedules, could provide insights into factors contributing to mechanical problems and accidents.\n",
        "\n",
        "- **Weather Data:** Weather conditions can significantly impact bus operations. Having weather data could help correlate delays with adverse weather conditions."
      ]
    },
    {
      "cell_type": "markdown",
      "metadata": {
        "id": "Rmhlr0QIEkoc"
      },
      "source": [
        "### d). Did We Have the Right Question?\n",
        "\n",
        "Based on the analysis, the questions I addressed seem relevant and insightful. However, there are a few other potential questions that could have been considered:\n",
        "\n",
        "- **Impact on Student Performance:** Does the frequency of bus breakdowns or delays have an impact on students' academic performance or attendance?\n",
        "\n",
        "- **Comparison with Industry Benchmarks:** How do the breakdown and delay rates of these buses compare with industry benchmarks or other similar bus services?\n",
        "\n",
        "- **Cost Analysis:** What are the financial implications of breakdowns and delays? How much does each delay cost the service in terms of operational expenses and potential revenue loss?"
      ]
    },
    {
      "cell_type": "markdown",
      "metadata": {
        "id": "jYOhvEjREkod"
      },
      "source": []
    }
  ],
  "metadata": {
    "kernelspec": {
      "display_name": "Python (learn-env)",
      "language": "python",
      "name": "learn-env"
    },
    "language_info": {
      "codemirror_mode": {
        "name": "ipython",
        "version": 3
      },
      "file_extension": ".py",
      "mimetype": "text/x-python",
      "name": "python",
      "nbconvert_exporter": "python",
      "pygments_lexer": "ipython3",
      "version": "3.10.9"
    },
    "orig_nbformat": 4,
    "colab": {
      "provenance": []
    }
  },
  "nbformat": 4,
  "nbformat_minor": 0
}